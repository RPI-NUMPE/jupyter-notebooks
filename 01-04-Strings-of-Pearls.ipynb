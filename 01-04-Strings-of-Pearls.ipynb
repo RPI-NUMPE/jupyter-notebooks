{
 "cells": [
  {
   "cell_type": "markdown",
   "metadata": {},
   "source": [
    "## 1.4:  Strings of Pearls"
   ]
  },
  {
   "cell_type": "markdown",
   "metadata": {},
   "source": [
    "### 1.4.1  strings\n",
    "\n",
    "Strings are a sequence of characters:  letters, numbers, and other symbols.\n",
    "\n",
    "Strings can be defined with either a pair of double quotation marks, \"hi\", or single quotation marks, 'hi'; however, always be consistent."
   ]
  },
  {
   "cell_type": "code",
   "execution_count": null,
   "metadata": {},
   "outputs": [],
   "source": [
    "print(\"Hello Python!\")\n",
    "print('Hello, World!')"
   ]
  },
  {
   "cell_type": "markdown",
   "metadata": {},
   "source": [
    "If you try to mix quotation marks, you'll get an error message.  For example,\n",
    "\n",
    "&nbsp; &nbsp; &nbsp; print(\"this will not work')\n",
    "\n",
    "will result in the following error message:\n",
    "\n",
    "&nbsp; &nbsp; &nbsp; EOL while scanning string literal<br />\n",
    "\n",
    "This means that the Python interpreter got to the End Of Line (EOL - effectively the end of the statement) before it got to the end of the string entity (a string <i>literal</i>) that it thought it was reading (\"scanning\").  This is because when it encoutered an initiating double quotation mark it started to interpret a string, but did not find a terminal double quotation mark to tell it when to stop.\n",
    "\n",
    "A <i>literal</i> is a fixed representation of an entity.  For example, x = 4 means the value of the literal 4 is assigned to variable x.  4 is a fixed representation of an integer with the mathematical value of four.  In the statement y = 2+2, the right side is not a literal; it is an expression that contains the literal 2 twice.  The expression evaluates to an integer, but no literal representation of that integer is in the statement y = 2+2.\n",
    "\n",
    "A string literal is any sequence of characters enclosed in a consistent pair of quotation marks.  \"ABC\" is a string literal, as is the right side of the assignment statement x = \"word\"."
   ]
  },
  {
   "cell_type": "code",
   "execution_count": null,
   "metadata": {},
   "outputs": [],
   "source": [
    "print(\"this will not work')\n",
    "\n",
    "print('don't try this at home')"
   ]
  },
  {
   "cell_type": "markdown",
   "metadata": {},
   "source": [
    "Two or more strings can be combined, or <i>concatenated</i>, to make a new string."
   ]
  },
  {
   "cell_type": "code",
   "execution_count": null,
   "metadata": {},
   "outputs": [],
   "source": [
    "x = \"Tues\" \"day\"\n",
    "print(x)\n",
    "x = \"Can\" \"you\" \"read\" \"this?\"\n",
    "print(x)"
   ]
  },
  {
   "cell_type": "markdown",
   "metadata": {},
   "source": [
    "However, for usefulness and readability use the <i>concatenation operator</i>, +, since it is more explicit and works with variables."
   ]
  },
  {
   "cell_type": "code",
   "execution_count": null,
   "metadata": {},
   "outputs": [],
   "source": [
    "word = \"day\"\n",
    "x = \"Tues\" + word\n",
    "print(x)\n",
    "y = \"Wednes\" + word\n",
    "print(y)\n",
    "\n",
    "print(\"Thurs\" + word)\n",
    "\n",
    "#print(\"Thurs\" word)   # This will make Python unhappy"
   ]
  },
  {
   "cell_type": "markdown",
   "metadata": {},
   "source": [
    "Care must be exercised when trying to combine strings and numbers"
   ]
  },
  {
   "cell_type": "code",
   "execution_count": null,
   "metadata": {},
   "outputs": [],
   "source": [
    "print(\"Tuesday the \" + 15 + \"th\")"
   ]
  },
  {
   "cell_type": "markdown",
   "metadata": {},
   "source": [
    "You need to convert the number (of type int) to a string first.  Use the str() function for this conversion.\n",
    "\n",
    "You may recall from previous tutorials that sometimes strings and ints can be operands in the same expression, such as for \"hi\"&ast;3.  This depends on how the operator is <i>overloaded</i>.\n",
    "\n",
    "In computer programming, an operator can be made to behave differently depending on the types of its arguments.  This is why 1+1 results in 2, but 1+1.0 results in 2.0:  an int plus an int results in an int, while an int plus a float results in a float.  A string times an int (and an int times a string) results in the string repeated that integer number of times.  However, a string times a float will result in an error, similar to how a string plus an integer resulted in an error:  those operators are not overloaded in those ways.\n",
    "\n",
    "Operator overloading may seem like unnecessary complication, but even in formal mathematics operators are widely overloaded but are not universal.  One can add scalars, and one can add vectors -- two mathematically different operations that are called \"addition\".  But we can't add a scalar to a vector.  And yet, just as we can multiply a scalar with a scalar, we can multiply a scalar with a vector.  But there are two common ways to multiply a vector with a vector:  dot products and cross products.  And how to \"multiply\" matrices is definitely not what someone would expect without a course in matrix algebra.\n",
    "\n",
    "We saw another example of operator overloading when we discussed the unary \"-\" operator for negation and the binary \"-\" operator for subtraction.  Operator overloading is a form of \"polymorphism\", a terms we will discuss later in the course when we introduce \"object oriented programming\"."
   ]
  },
  {
   "cell_type": "code",
   "execution_count": null,
   "metadata": {},
   "outputs": [],
   "source": [
    "print(\"Tuesday the \" + str(15) + \"th\")\n",
    "\n",
    "print(\"hi!\"*3)     # this works"
   ]
  },
  {
   "cell_type": "markdown",
   "metadata": {},
   "source": [
    "### 1.4.2   escape characters\n",
    "\n",
    "Sometimes you need to “escape” to access special characters.\n",
    "\n",
    "An <i>escape character</i> is a character which signals that the following character is to be treated differently.  In Python the backslash is used to access certain characters that would otherwise be ambiguous or unavailable.\n",
    "\n",
    "<table>\n",
    "    <tr>\n",
    "        <th>character</th>\n",
    "        <th>description</th>\n",
    "    </tr>\n",
    "    <tr>\n",
    "        <td>\\n</td>\n",
    "        <td>new line (\"return\" character)</td>\n",
    "    </tr>\n",
    "    <tr>\n",
    "        <td>\\\\</td>\n",
    "        <td>when you need the backslash itself</td>\n",
    "    </tr>\n",
    "    <tr>\n",
    "        <td>\\'</td>\n",
    "        <td>when you need a single quotation mark</td>\n",
    "    </tr>\n",
    "    <tr>\n",
    "        <td>\\\"</td>\n",
    "        <td>when you need a double quotation mark</td>\n",
    "    </tr>\n",
    "    <tr>\n",
    "        <td>\\t</td>\n",
    "        <td>when you need a tab (defaults to 8 spaces)</td>\n",
    "    </tr>\n",
    "    <tr>\n",
    "        <td>\\xhh</td>\n",
    "        <td>ASCII character with hex code hh</td>\n",
    "    </tr>\n",
    "    <tr>\n",
    "        <td>\\uhhhh</td>\n",
    "        <td>16-bit unicode character with hex code hhhh</td>\n",
    "    </tr>\n",
    "    <tr>\n",
    "        <td>\\Uhhhhhhhh</td>\n",
    "        <td>32-bit unicode character with hex code hhhhhhhh</td>\n",
    "    </tr>\n",
    "</table>\n",
    "    "
   ]
  },
  {
   "cell_type": "code",
   "execution_count": null,
   "metadata": {
    "scrolled": true
   },
   "outputs": [],
   "source": [
    "print(\"He said \\\"I don't need that backslash...\\\"\")\n",
    "print('She said \"I don\\'t need those backslashes...\"')\n",
    "print()\n",
    "print(\"Roses are red,\\nViolets are... violet.\\nIt\\'s right in the name.\\nDon\\'t try to deny it!\")\n",
    "print()\n",
    "print(\"Hello, clich\\xE9!\")\n",
    "print()\n",
    "print(\"e\\u02E3 dy/dx\\ne\\u02E3 dx\\ncos sec tan sin\\n3.14159\\n\\u221A \\u221B log(\\u03C0)\\ndis-integrate them RPI\")\n",
    "print()\n",
    "print(\"Python? \\U0001F40D\")"
   ]
  },
  {
   "cell_type": "markdown",
   "metadata": {},
   "source": [
    "### 1.4.3  string length\n",
    "\n",
    "The length of a string can be determined using the `len()` function.  The `len()` function returns an integer.  This can be converted to a string using the `str()` function.\n",
    "\n",
    "Note the use of blanks in concatenated strings to make sure words and phrases are properly separated when printed.\n",
    "\n",
    "The characters used to escape a character do not count toward the length of the character.  A single unicode character has a length of 1 even though it took ten characters to generate it.\n",
    "\n",
    "The last example shows how complex strings can be built using the += compound operator."
   ]
  },
  {
   "cell_type": "code",
   "execution_count": null,
   "metadata": {},
   "outputs": [],
   "source": [
    "x = len(\"ABCDEFGHIJKLMNOPQRSTUVWXYZ\")\n",
    "print(\"The standard English alphabet has\", x, \"characters\")\n",
    "print(\"(though in Old English there were more).\")\n",
    "print()\n",
    "\n",
    "print(\"There are \" + str(len(\"0123456789ABCDEF\")) + \" valid digits in hexidecimal.\")\n",
    "print()\n",
    "\n",
    "char = \"\\U0001F40D\"     # change the hex code at will\n",
    "string_to_print  = \"The 32-bit unicode character \"\n",
    "string_to_print += char\n",
    "string_to_print += \" has a length of \"\n",
    "string_to_print += str(len(char))\n",
    "string_to_print += \".\"\n",
    "print(string_to_print)"
   ]
  },
  {
   "cell_type": "markdown",
   "metadata": {},
   "source": [
    "### 1.4.4  raw strings\n",
    "\n",
    "Sometimes you may not want to risk having a string containing a backslash misinterpreted as an escape character.  This is most common in specifying directory paths in the Windows operating system.\n",
    "\n",
    "Python allows \"raw\" strings by prepending the string with r or R:<br />\n",
    "&nbsp; &nbsp; r'This is a raw string,'<br />\n",
    "&nbsp; &nbsp; R\"and so is this.\"<br />\n",
    "\n",
    "There is one exception to raw strings:  they may not be terminated with a single backslash.  Thus,<br />\n",
    "&nbsp; &nbsp; r'C:\\NuMPE' &nbsp; &nbsp; &nbsp; &nbsp; is a valid raw string<br />\n",
    "&nbsp; &nbsp; r'C:\\NuMPE\\\\' &nbsp; &nbsp; &nbsp; &nbsp; is not valid<br />"
   ]
  },
  {
   "cell_type": "code",
   "execution_count": null,
   "metadata": {},
   "outputs": [],
   "source": [
    "path = 'C:\\noodle'               # not a raw string; \\n gives a new line\n",
    "print(path)\n",
    "print()\n",
    "\n",
    "# use the escape character\n",
    "file1 = 'C:\\\\NuMPE\\\\Homework\\\\hw01.py'\n",
    "print(file1)\n",
    "\n",
    "# or use a raw string\n",
    "file2 = r'C:\\NuMPE\\Homework\\hw02.py'\n",
    "print(file2)\n",
    "\n",
    "#path = r'C:\\NuMPE\\Homework\\'   # the terminating backslash will generate an error\n",
    "#print(path)"
   ]
  },
  {
   "cell_type": "markdown",
   "metadata": {},
   "source": [
    "### 1.4.5  triple quotation mark strings (aka docstrings)\n",
    "\n",
    "One last type of Python string is enclosed in triple quotation marks (using either single or double quotation marks).  This can be used for multi-line comments in Python code, though IDEs will generally not highlight them as comments in the same way that text preceeded by # is.\n",
    "\n",
    "When we learn about <i>docstrings</i> we will find out that comments in triple quotation marks are interpreted in special ways, and so are discouraged except for those special purposes."
   ]
  },
  {
   "cell_type": "code",
   "execution_count": null,
   "metadata": {},
   "outputs": [],
   "source": [
    "\"\"\"\n",
    "This is a multiline comment\n",
    "at the top of the code\n",
    "\"\"\"\n",
    "\n",
    "a = 1\n",
    "b = 2\n",
    "\n",
    "'''This is\n",
    "a multiline comment\n",
    "in the middle\n",
    "of the code'''\n",
    "\n",
    "print(a, b)\n",
    "\n",
    "# This is the preferred way\n",
    "# to have multiple lines of\n",
    "# comments within code.\n",
    "\n",
    "print (a+b)\n",
    "\n",
    "string = '''Does this act like a comment or a string?'''\n",
    "print(string)"
   ]
  },
  {
   "cell_type": "markdown",
   "metadata": {},
   "source": [
    "### 1.4.6  strings are immutable\n",
    "\n",
    "Strings can be indexed in much the same way as lists.  However, unlike lists where you can change any of the elements, strings are <i>immutable</i>.  This means that once a string is created, its characters cannot be modified.\n",
    "\n",
    "New strings can be created with combinations of elements of strings, slices of strings, and whole strings, but once created the new string is also immutable."
   ]
  },
  {
   "cell_type": "code",
   "execution_count": null,
   "metadata": {},
   "outputs": [],
   "source": [
    "name = \"Harry Potter\"      # the right side is an immutable string literal, assigned to the variable `name`\n",
    "\n",
    "initials = name[0]+name[6] # you can build new strings, but once built the new string is also immutable\n",
    "print(initials)\n",
    "gossip = initials + \" fancies GW\"\n",
    "print(gossip)\n",
    "print()\n",
    "\n",
    "first = name[:5]\n",
    "last = name[6:]\n",
    "len(name)            # returns the number of characters in name\n",
    "print(\"First name:\", first)\n",
    "print(\"Last name is \" + last + \"\\t\" + \"Length of last name is \" + str(len(last)) + \" characters.\")\n",
    "print()\n",
    "\n",
    "#initials[1] = \"L\"   # this will not work; strings are immutable\n",
    "#print(initials)\n",
    "#name[:5] = \"Larry\"  # this will not work; strings are immutable\n",
    "#print(name)\n",
    "new_name = \"Larry \" + name[6:]   # this will work\n",
    "print(new_name)"
   ]
  },
  {
   "cell_type": "markdown",
   "metadata": {},
   "source": [
    "### 1.4.7  pearls before swine:  ways that Python can squeeze you\n",
    "\n",
    "All computer languages have idiosyncrasies, and Python is no exception.  This section will teach you little to nothing, but it may amuse you to see that even the inventors of computer languages don't get everything right.  It's not just you."
   ]
  },
  {
   "cell_type": "markdown",
   "metadata": {},
   "source": [
    "#### 1.4.7.1 unmatched quotation marks\n",
    "\n",
    "How can this work?  But then how can it not work?"
   ]
  },
  {
   "cell_type": "code",
   "execution_count": null,
   "metadata": {},
   "outputs": [],
   "source": [
    "print(\"Gotcha!\"\"\")\n",
    "print('This does not look like it should work.  But it does.''')"
   ]
  },
  {
   "cell_type": "code",
   "execution_count": null,
   "metadata": {},
   "outputs": [],
   "source": [
    "print(\"\"\"So then this should work... but it does not!  Why?\")"
   ]
  },
  {
   "cell_type": "markdown",
   "metadata": {},
   "source": [
    "Recall from Section 1.4.1 that Python allows implicit concatenation as a convenience, though we cautioned that in general you should instead use the \"+\" concatenation operator."
   ]
  },
  {
   "cell_type": "code",
   "execution_count": null,
   "metadata": {},
   "outputs": [],
   "source": [
    "x = \"Tues\" \"day\"\n",
    "print('implicitly concatenated: ', x)\n",
    "\n",
    "y = \"Tues\" + \"day\"\n",
    "print('concatenated using \"+\":  ', y)"
   ]
  },
  {
   "cell_type": "markdown",
   "metadata": {},
   "source": [
    "The statement `print(\"Gotcha!\"\"\")` is using implicit concatenation.  Python sees the first quotation mark and reads the string Gotcha! until it finds the second quotation mark, terminating that string.  It then finds the third quotation mark followed by the fourth -- another string, but this string is empty.  It implicitly concatenates Gotcha! and the empty string and successfully prints that to the screen.\n",
    "\n",
    "This doesn't work when the three quotation marks come first.  Python sees the three quotation marks and begins to read the triple-quoted string... and it won't stop until it finds the terminating three quotation marks.  But Python doesn't find them before the statement runs out.  Instead Python reaches the End Of File (\"EOF\" -- the end of all of the statements) while \"scanning\" (reading) the string, and says so in its error message."
   ]
  },
  {
   "cell_type": "markdown",
   "metadata": {},
   "source": [
    "#### 1.4.7.2  no last \\ in a raw string\n",
    "\n",
    "In Section 1.4.4 we noted that there is one exception to raw strings:  they may not be terminated with a single backslash.  Thus,<br />\n",
    "&nbsp; &nbsp; r'C:\\NuMPE' &nbsp; &nbsp; &nbsp; &nbsp; is a valid raw string<br />\n",
    "&nbsp; &nbsp; r'C:\\NuMPE\\\\' &nbsp; &nbsp; &nbsp; &nbsp; is not valid<br />\n",
    "\n",
    "But it's not unusual to want to build a directory path to a file by starting with a string that ends in a backslash and then concatenating that with a filename.  Why is that not allowed?"
   ]
  },
  {
   "cell_type": "code",
   "execution_count": null,
   "metadata": {},
   "outputs": [],
   "source": [
    "# This works as intended\n",
    "file = r'\\DangerNoodle.py'\n",
    "path = r'C:\\NuMPE\\Homework'\n",
    "print(path + file)"
   ]
  },
  {
   "cell_type": "code",
   "execution_count": null,
   "metadata": {},
   "outputs": [],
   "source": [
    "# but this is prohibited\n",
    "file = r'DangerNoodle.py'\n",
    "path = r'C:\\NuMPE\\Homework\\'   # the terminating backslash in the raw string will generate an error\n",
    "print(path + file)"
   ]
  },
  {
   "cell_type": "markdown",
   "metadata": {},
   "source": [
    "This doesn't work because raw strings were not designed to create directory paths.  (Indeed, in Windows you can use forward slashes as in macOS, Linux, and most other operating systems.)\n",
    "\n",
    "In a raw string the backslash represents itself, but is still also used as an escape character as described in Section 1.4.2.  Thus, the backslash must have a character after it so Python can decide whether the backslash is supposed to be escaping that following character or is representing only itself."
   ]
  },
  {
   "cell_type": "markdown",
   "metadata": {},
   "source": [
    "#### 1.4.7.3  you need a babel fish\n",
    "\n",
    "It seems we can't change \"The Answer to the Ultimate Question of Life, The Universe, and Everything\"."
   ]
  },
  {
   "cell_type": "code",
   "execution_count": null,
   "metadata": {},
   "outputs": [],
   "source": [
    "meaning_of_life = 42\n",
    "meaning_of_lifе =  1\n",
    "print(meaning_of_life)"
   ]
  },
  {
   "cell_type": "code",
   "execution_count": null,
   "metadata": {},
   "outputs": [],
   "source": [
    "# look deeper into life... especially that second life\n",
    "print(\"meaning_of_life\" == \"meaning_of_lifе\", \"   <-- shouldn't this be True?!\")"
   ]
  },
  {
   "cell_type": "code",
   "execution_count": null,
   "metadata": {},
   "outputs": [],
   "source": [
    "# look deeper still... at the last e in each variable that looks like \"meaning_of_life\"\n",
    "print(\"\\u0065\")      # e, the fifth letter of the English alphabet\n",
    "print(\"\\u0435\")      # е, a Cyrillic small letter pronounced like the \"e\" in \"yes\"\n",
    "print(\"Can you tell the difference?  Your computer can!\")"
   ]
  },
  {
   "cell_type": "markdown",
   "metadata": {},
   "source": [
    "#### 1.4.7.4  I've got your nose\n",
    "\n",
    "This is a scam that programmers have been inflicting on themselves since programming began.  Don't fall for this when you write code.\n",
    "\n",
    "You paid for fourteen words (count them!), but you only got thirteen."
   ]
  },
  {
   "cell_type": "code",
   "execution_count": null,
   "metadata": {},
   "outputs": [],
   "source": [
    "words = [\"I\",\n",
    "         \"will\",\n",
    "         \"sell\",\n",
    "         \"you\",\n",
    "         \"fourteen\",\n",
    "         \"lovely\",\n",
    "         \"words\",\n",
    "         \"but\",\n",
    "         \"you\",\n",
    "         \"only\",\n",
    "         \"got\",\n",
    "         \"an\",\n",
    "         \"unlucky\"\n",
    "         \"thirteen\"]\n",
    "\n",
    "print(\"You only got\", len(words), \"words! \")\n",
    "\n",
    "#print(words)"
   ]
  },
  {
   "cell_type": "markdown",
   "metadata": {},
   "source": [
    "It's another case of implicit concatenation.  Print the words and see what's missing."
   ]
  },
  {
   "cell_type": "markdown",
   "metadata": {},
   "source": [
    "You can find more of these (though presented irreverently, and most well beyond what we will cover in this course) here:<br>\n",
    "https://github.com/satwikkansal/wtfpython<br>\n",
    "and some explanations about the design of Python here:<br>\n",
    "https://docs.python.org/3/faq/design.html"
   ]
  },
  {
   "cell_type": "markdown",
   "metadata": {},
   "source": [
    "<br><br>\n",
    "When your code doesn't work properly it is almost always your fault.  Way, way closer to 100% of the time than you think.  And yet, you can never really be sure."
   ]
  },
  {
   "cell_type": "code",
   "execution_count": null,
   "metadata": {},
   "outputs": [],
   "source": []
  }
 ],
 "metadata": {
  "kernelspec": {
   "display_name": "Python 3",
   "language": "python",
   "name": "python3"
  },
  "language_info": {
   "codemirror_mode": {
    "name": "ipython",
    "version": 3
   },
   "file_extension": ".py",
   "mimetype": "text/x-python",
   "name": "python",
   "nbconvert_exporter": "python",
   "pygments_lexer": "ipython3",
   "version": "3.8.5"
  }
 },
 "nbformat": 4,
 "nbformat_minor": 2
}
