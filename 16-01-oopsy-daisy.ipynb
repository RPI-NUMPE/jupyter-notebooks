{
 "cells": [
  {
   "cell_type": "markdown",
   "metadata": {},
   "source": [
    "## 17.1:  oopsy daisy"
   ]
  },
  {
   "cell_type": "markdown",
   "metadata": {},
   "source": [
    "Inheritance is easier to understand with a concrete example.  In this Jupyter Notebook Topic we will use the following classes to explore inheritance:\n",
    "<ul>\n",
    "    <li>superclass Automobile</li>\n",
    "    <li>subclass Car</li>\n",
    "    <li>subclass Truck</li>\n",
    "    </ul>\n",
    "\n",
    "The code for these classes is all in the next cell.  Be sure to &#91; Run &#93; the next cell before continuing on with the rest of this Jupyter Notebook."
   ]
  },
  {
   "cell_type": "code",
   "execution_count": null,
   "metadata": {},
   "outputs": [],
   "source": [
    "\"\"\"Define Automobile superclass and subclasses\"\"\"\n",
    "\n",
    "class Automobile(object):\n",
    "    \"\"\"A road vehicle\"\"\"\n",
    "\n",
    "    def __init__(self, name, mpg, fuel_cap):\n",
    "        \"\"\"Initialize the name, miles-per-gallon, and fuel capacity.\"\"\"\n",
    "        if mpg < 0.0 or fuel_cap < 0.0:\n",
    "            raise ValueError(\"MPG and fuel capacity must be positive.\")\n",
    "        self._name = name\n",
    "        self._mpg = mpg\n",
    "        self._fuel_cap = fuel_cap\n",
    "\n",
    "    def __str__(self):\n",
    "        \"\"\"Return a string representation of this Automobile.\"\"\"\n",
    "        return (self._name + \"\\n\" +\n",
    "                \"\\tmpg = \" + str(self._mpg) + \"\\n\" +\n",
    "                \"\\tfuel capacity = \" + str(self._fuel_cap) + \"\\n\")\n",
    "\n",
    "    def get_mpg(self):\n",
    "        \"\"\"Return the Automobile's miles-per-gallon.\"\"\"\n",
    "        return self._mpg\n",
    "\n",
    "    def get_fuel_capacity(self):\n",
    "        \"\"\"Return the Automobile's fuel capacity.\"\"\"\n",
    "        return self._fuel_cap\n",
    "\n",
    "    def calc_max_distance(self):\n",
    "        \"\"\"Return the maximum distance the Automobile can travel.\"\"\"\n",
    "        return self._mpg*self._fuel_cap\n",
    "\n",
    "\n",
    "class Car(Automobile):\n",
    "    \"\"\"A passenger road vehicle\"\"\"\n",
    "\n",
    "    def __init__(self, name, mpg, fuel_cap, convertible=False):\n",
    "        \"\"\"Set the name, miles-per-gallon, fuel capacity, and whether or not a convertible.\"\"\"\n",
    "        Automobile.__init__(self, name, mpg, fuel_cap)\n",
    "        self._convertible = convertible\n",
    "\n",
    "    def __str__(self):\n",
    "        \"\"\"Return a string representation of this Car.\"\"\"\n",
    "        return (Automobile.__str__(self) +\n",
    "                \"\\tconvertible = \" + str(self._convertible) + \"\\n\")\n",
    "\n",
    "    def is_convertible(self):\n",
    "        \"\"\"Returns True if this Car is a convertible, False otherwise.\"\"\"\n",
    "        return self._convertible\n",
    "\n",
    "\n",
    "class Truck(Automobile):\n",
    "    \"\"\"A heavy road vehicle designed to carry products.\"\"\"\n",
    "\n",
    "    def __init__(self, name, mpg, fuel_cap, max_load):\n",
    "        \"\"\"Set the name, miles-per-gallon, fuel capacity, and maximum load.\"\"\"\n",
    "        Automobile.__init__(self, name, mpg, fuel_cap)\n",
    "        if max_load < 0.0:\n",
    "            raise ValueError(\"Maximum load must be positive.\")\n",
    "        self._max_load = max_load\n",
    "\n",
    "    def __str__(self):\n",
    "        \"\"\"Return a string representation of this Truck.\"\"\"\n",
    "        return (Automobile.__str__(self) +\n",
    "                \"\\tmaximum load = \" + str(self._max_load) + \"\\n\")\n",
    "\n",
    "    def get_max_load(self):\n",
    "        \"\"\"Return the Truck's maximum load.\"\"\"\n",
    "        return self._max_load\n",
    "\n",
    "print(\"Cell ran successfully.\")"
   ]
  },
  {
   "cell_type": "markdown",
   "metadata": {},
   "source": [
    "A <i><b>base class</b></i> is the class that we inherit from.\n",
    "\n",
    "In the example above, the `Automobile` class is the base class.\n",
    "\n",
    "<ul>\n",
    "    <li>It defines some data attributes — _name, _mpg, and _fuel_cap — that will be inherited.</li>\n",
    "    <li>The methods — such as __init__, __str__, get_mpg, etc. — will also be inherited.</li>\n",
    "</ul>\n",
    "\n",
    "The base class is sometimes called the <i>superclass</i> or <i>parent class</i>."
   ]
  },
  {
   "cell_type": "markdown",
   "metadata": {},
   "source": [
    "In this example we can use the Automobile base class on its own.  For example, in the next cell we instantiate an Automobile object.\n",
    "\n",
    "Not all base classes can be used on their own like this. Some are intended only to be derived from.\n",
    "<ul>\n",
    "    <li>Such classes are sometimes called an <i><b>abstract base class</b></i>.</li>\n",
    "    <li>You will meet an abstract base class in the in-class exercise for Preliminaries 17:  class Polygon.</li>\n",
    "</ul>"
   ]
  },
  {
   "cell_type": "code",
   "execution_count": null,
   "metadata": {},
   "outputs": [],
   "source": [
    "auto = Automobile(\"Model-T\", 21, 10)\n",
    "\n",
    "auto.calc_max_distance()\n",
    "print(auto)              # recall: print uses auto.__str__()"
   ]
  },
  {
   "cell_type": "markdown",
   "metadata": {},
   "source": [
    "Derived classes must indicate the base class that they inherit from.\n",
    "\n",
    "The generic way this is done is by placing the base class in parentheses after the new, derived class:\n",
    "\n",
    "`class DerivedClass(BaseClass):\n",
    "    code block`\n",
    "\n",
    "In the example above (and repeated for `Car` below), this looks like the following:\n",
    "\n",
    "`class Car(Automobile):\n",
    "    \"\"\"A passenger road vehicle\"\"\"\n",
    "    \\# code for Car methods`\n",
    "    \n",
    "`class Truck(Automobile):\n",
    "    \"\"\"A heavy road vehicle designed to carry products.\"\"\"\n",
    "    \\# code for Truck methods`"
   ]
  },
  {
   "cell_type": "code",
   "execution_count": null,
   "metadata": {},
   "outputs": [],
   "source": [
    "class Car(Automobile):\n",
    "    \"\"\"A passenger road vehicle\"\"\"\n",
    "\n",
    "    def __init__(self, name, mpg, fuel_cap, convertible=False):\n",
    "        \"\"\"Set the name, miles-per-gallon, fuel capacity, and whether or not a convertible.\"\"\"\n",
    "        Automobile.__init__(self, name, mpg, fuel_cap)\n",
    "        self._convertible = convertible\n",
    "\n",
    "    def __str__(self):\n",
    "        \"\"\"Return a string representation of this Car.\"\"\"\n",
    "        return (Automobile.__str__(self) +\n",
    "                \"\\tconvertible = \" + str(self._convertible) + \"\\n\")\n",
    "\n",
    "    def is_convertible(self):\n",
    "        \"\"\"Returns True if this Car is a convertible, False otherwise.\"\"\"\n",
    "        return self._convertible"
   ]
  },
  {
   "cell_type": "markdown",
   "metadata": {},
   "source": [
    "As you can see, derived classes can change the `__init__` constructor, or other methods, to meet their needs.\n",
    "\n",
    "For example, the `Car` class shown above introduces the data attribute `_convertible` to indicate if the object is a convertible car or not.\n",
    "<ul>\n",
    "    <li>Because of the newly introduced data attribute, Car’s constructor was modified to allow us to initialize this attribute.</li>\n",
    "</ul>"
   ]
  },
  {
   "cell_type": "code",
   "execution_count": null,
   "metadata": {},
   "outputs": [],
   "source": [
    "practical = Car(\"Corolla\", 42, 13.2)\n",
    "print(practical)\n",
    "\n",
    "fun = Car(\"Mustang\", 28, 15.5, convertible=True)\n",
    "print(fun)"
   ]
  },
  {
   "cell_type": "markdown",
   "metadata": {},
   "source": [
    "To reuse code, the derived class’s constructor can call the baseclass constructor.\n",
    "\n",
    "While the `_convertible` attribute is new, the remaining attributes are inherited from Automobile, and it would be nice to avoid rewriting the code that initializes them.\n",
    "\n",
    "Fortunately, we did not have to rewrite that part of the code:\n",
    "\n",
    "`def __init__(self, name, mpg, fuel_cap, convertible=False):\n",
    "    \"\"\"Set the name, miles-per-gallon, fuel capacity, and\n",
    "       whether or not a convertible.\"\"\"\n",
    "    Automobile.__init__(self, name, mpg, fuel_cap)\n",
    "    self._convertible = convertible`\n",
    "\n",
    "Notice how the base class’s constructor is referenced:\n",
    "\n",
    "`Automobile.__init__`"
   ]
  },
  {
   "cell_type": "markdown",
   "metadata": {},
   "source": [
    "This way of extending the base-class methods goes beyond the constructor.\n",
    "\n",
    "In the example code, we also extend the `__str__` method, making use of the base class’s `__str__` method.\n",
    "\n",
    "\n",
    "`def __init__(self, name, mpg, fuel_cap, convertible=False):\n",
    "    \"\"\"Set the name, miles-per-gallon, fuel capacity, and\n",
    "       whether or not a convertible.\"\"\"\n",
    "    Automobile.__init__(self, name, mpg, fuel_cap)\n",
    "    self._convertible = convertible`\n",
    "\n",
    "`def __str__(self):\n",
    "    \"\"\"Return a string representation of this Car.\"\"\"\n",
    "    return (Automobile.__str__(self) + \"\\tconvertible = \" + str(self._convertible) + \"\\n\")`"
   ]
  },
  {
   "cell_type": "code",
   "execution_count": null,
   "metadata": {},
   "outputs": [],
   "source": [
    "practical = Car(\"Corolla\", 42, 13.2)\n",
    "print(practical)\n",
    "\n",
    "fun = Car(\"Mustang\", 28, 15.5, convertible=True)\n",
    "print(fun)"
   ]
  },
  {
   "cell_type": "markdown",
   "metadata": {},
   "source": [
    "Finally, the derived classes are not restricted to the base class’s methods; they can introduce new methods.\n",
    "\n",
    "In the case of the Car child class, we want a method that indicates if an object is a convertible or not.\n",
    "\n",
    "`def is_convertible(self):\n",
    "    \"\"\"True if this Car is a convertible, False otherwise.\"\"\"\n",
    "    return self._convertible`\n",
    "\n",
    "<ul>\n",
    "    <li>Why not just inspect the _convertible data attribute?</li>\n",
    "    <li>Because it is flagged (using the underscore, _) as a private attribute.</li>\n",
    "</ul>\n",
    "\n",
    "In the future a code developer might change the name of this attribute, so it is safer to use a method that indicates the attribute value."
   ]
  },
  {
   "cell_type": "markdown",
   "metadata": {},
   "source": [
    "We finish with an example using the Truck subclass."
   ]
  },
  {
   "cell_type": "code",
   "execution_count": null,
   "metadata": {},
   "outputs": [],
   "source": [
    "class Truck(Automobile):\n",
    "    \"\"\"A heavy road vehicle designed to carry products.\"\"\"\n",
    "\n",
    "    def __init__(self, name, mpg, fuel_cap, max_load):\n",
    "        \"\"\"Set the name, miles-per-gallon, fuel capacity, and maximum load.\"\"\"\n",
    "        Automobile.__init__(self, name, mpg, fuel_cap)\n",
    "        if max_load < 0.0:\n",
    "            raise ValueError(\"Maximum load must be positive.\")\n",
    "        self._max_load = max_load\n",
    "\n",
    "    def __str__(self):\n",
    "        \"\"\"Return a string representation of this Truck.\"\"\"\n",
    "        return (Automobile.__str__(self) +\n",
    "                \"\\tmaximum load = \" + str(self._max_load) + \"\\n\")\n",
    "\n",
    "    def get_max_load(self):\n",
    "        \"\"\"Return the Truck's maximum load.\"\"\"\n",
    "        return self._max_load"
   ]
  },
  {
   "cell_type": "code",
   "execution_count": null,
   "metadata": {},
   "outputs": [],
   "source": [
    "oof = Truck(\"797F\", 0.3, 2000, 800000)\n",
    "print(oof)"
   ]
  },
  {
   "cell_type": "markdown",
   "metadata": {},
   "source": [
    "You don't want to hear \"oopsy daisy\" from the driver of a 797F.\n",
    "<br>\n",
    "<br>\n",
    "<br>\n",
    "<br>"
   ]
  }
 ],
 "metadata": {
  "kernelspec": {
   "display_name": "Python 3",
   "language": "python",
   "name": "python3"
  },
  "language_info": {
   "codemirror_mode": {
    "name": "ipython",
    "version": 3
   },
   "file_extension": ".py",
   "mimetype": "text/x-python",
   "name": "python",
   "nbconvert_exporter": "python",
   "pygments_lexer": "ipython3",
   "version": "3.8.5"
  }
 },
 "nbformat": 4,
 "nbformat_minor": 2
}
