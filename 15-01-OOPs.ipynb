{
 "cells": [
  {
   "cell_type": "markdown",
   "metadata": {},
   "source": [
    "## 15.1:  oops"
   ]
  },
  {
   "cell_type": "markdown",
   "metadata": {},
   "source": [
    "### 15.1.1:  some functions about types"
   ]
  },
  {
   "cell_type": "markdown",
   "metadata": {},
   "source": [
    "Below are some functions to determine type.  Note that the type refers to the class that defines the type."
   ]
  },
  {
   "cell_type": "code",
   "execution_count": null,
   "metadata": {
    "scrolled": true
   },
   "outputs": [],
   "source": [
    "import numpy as np\n",
    "import matplotlib.pyplot as plt\n",
    "\n",
    "a = 1\n",
    "b = 2.0\n",
    "c = 3.0 + 4.0j\n",
    "d = \"five\"\n",
    "e = np.array([6.0, 7.0, 8.0])\n",
    "f = plt.figure(9)\n",
    "\n",
    "for x in [a, b, c, d, e, f]:\n",
    "    print(x, \"is of type\", type(x))"
   ]
  },
  {
   "cell_type": "markdown",
   "metadata": {},
   "source": [
    "You can also query the type of an object with the `isinstance` function.\n",
    "\n",
    "Change the \"value\" of `i` to literals of various types (e.g.:  2, 2.0, \"two\" -- include the quotation marks for the string)."
   ]
  },
  {
   "cell_type": "code",
   "execution_count": null,
   "metadata": {},
   "outputs": [],
   "source": [
    "i = 2\n",
    "s = \"hi ho \"\n",
    "\n",
    "if (isinstance(i, int)):\n",
    "    string = i * s\n",
    "elif (isinstance(i, float)):\n",
    "    string = \"oh, no\"\n",
    "else:\n",
    "    string = \"doh!\"\n",
    "\n",
    "print(string)"
   ]
  },
  {
   "cell_type": "markdown",
   "metadata": {},
   "source": [
    "You can even catch errant decimal points applied to what should be an integer.\n",
    "\n",
    "The `float` type has the `is_integer()` method to determine if the float has no fractional part (and thus is representable by an integer).\n",
    "\n",
    "Try index = 2. and 2.0 (both representable as an integer) and index = 2.2 (not representable as an integer)."
   ]
  },
  {
   "cell_type": "code",
   "execution_count": null,
   "metadata": {},
   "outputs": [],
   "source": [
    "import numpy as np\n",
    "array = np.array([6.0, 7.0, 8.0])\n",
    "\n",
    "index = 2.\n",
    "if (index.is_integer()):\n",
    "    print(\"element\", index, \"is\", array[int(index)])\n",
    "else:\n",
    "    print(\"Which element?!\")\n"
   ]
  },
  {
   "cell_type": "markdown",
   "metadata": {},
   "source": [
    "### 15.1.2:  building a Vector class"
   ]
  },
  {
   "cell_type": "markdown",
   "metadata": {},
   "source": [
    "We start with a most basic, and useless, class.  Note that the variable `vec` instantiated by class `Vector` doesn't even get to have a type more specific than \"type\".  That's because the class doesn't initialize the instance `vec` to anything more than a thing in the \"main\" program that is of class Vector.  There's nothing more to recognize `vec` as any particular type."
   ]
  },
  {
   "cell_type": "code",
   "execution_count": null,
   "metadata": {},
   "outputs": [],
   "source": [
    "class Vector:\n",
    "    \"\"\"Defines Cartesian 2-vectors\"\"\"\n",
    "    pass\n",
    "\n",
    "vec = Vector\n",
    "print(vec, \"is of type\", type(vec))"
   ]
  },
  {
   "cell_type": "markdown",
   "metadata": {},
   "source": [
    "Now let's define an `__init__` function as a method to generate an actual `vec` of type `Vector` with the specified components.\n",
    "\n",
    "But why doesn't anything useful print out for `vec`?"
   ]
  },
  {
   "cell_type": "code",
   "execution_count": null,
   "metadata": {},
   "outputs": [],
   "source": [
    "class Vector:\n",
    "    \"\"\"Defines Cartesian 2-vectors\"\"\"\n",
    "\n",
    "    def __init__(self, x, y):\n",
    "        \"\"\"Initialize components x and y\"\"\"\n",
    "        self._x = x   # set calling object's _x data attribute\n",
    "        self._y = y   # set calling object's _y data attribute\n",
    "\n",
    "vec = Vector(1.0, -2.0)\n",
    "print(vec, \"is of type\", type(vec))\n"
   ]
  },
  {
   "cell_type": "markdown",
   "metadata": {},
   "source": [
    "Nothing useful is printed for vec because we just invented this type.  Python has no way to know how to `print` objects of this type.\n",
    "\n",
    "So now let's add a `__str__` method to make a useful string to print out when the `print` function is called with a variable of this type as an argument."
   ]
  },
  {
   "cell_type": "code",
   "execution_count": null,
   "metadata": {},
   "outputs": [],
   "source": [
    "class Vector:\n",
    "    \"\"\"Defines Cartesian 2-vectors\"\"\"\n",
    "\n",
    "    def __init__(self, x, y):\n",
    "        \"\"\"Initialize components x and y\"\"\"\n",
    "        self._x = x   # set calling object's _x data attribute\n",
    "        self._y = y   # set calling object\"s _y data attribute\n",
    "\n",
    "    def __str__(self):\n",
    "        \"\"\"print components x and y as a special 2 element vector\"\"\"\n",
    "        string = \"<< \" + str(self._x) + \", \" + str(self._y) + \" >>\"\n",
    "        return string\n",
    "        \n",
    "vec = Vector(1.0, -2.0)\n",
    "print(vec, \"is of type\", type(vec))"
   ]
  },
  {
   "cell_type": "markdown",
   "metadata": {},
   "source": [
    "Next we add the class variable `_num_comp`.  We can use this to enumerate the number of vector components for any varable of type Vector."
   ]
  },
  {
   "cell_type": "code",
   "execution_count": null,
   "metadata": {},
   "outputs": [],
   "source": [
    "class Vector:\n",
    "    \"\"\"Defines Cartesian 2-vectors\"\"\"\n",
    "\n",
    "    _num_comp = 2\n",
    "    \n",
    "    def __init__(self, x, y):\n",
    "        \"\"\"Initialize components x and y\"\"\"\n",
    "        self._x = x   # set calling object's _x data attribute\n",
    "        self._y = y   # set calling object\"s _y data attribute\n",
    "\n",
    "    def __str__(self):\n",
    "        \"\"\"print components x and y as a special 2 element vector\"\"\"\n",
    "        string = \"<< \" + str(self._x) + \", \" + str(self._y) + \" >>\"\n",
    "        return string\n",
    "    \n",
    "        \n",
    "vec = Vector(1.0, -2.0)\n",
    "print(vec, \"is of type\", type(vec))\n",
    "print(\"and has\", vec._num_comp, \"components.\" )"
   ]
  },
  {
   "cell_type": "markdown",
   "metadata": {},
   "source": [
    "Next we add a length method."
   ]
  },
  {
   "cell_type": "code",
   "execution_count": null,
   "metadata": {},
   "outputs": [],
   "source": [
    "class Vector:\n",
    "    \"\"\"Defines Cartesian 2-vectors\"\"\"\n",
    "\n",
    "    _num_comp = 2\n",
    "    \n",
    "    def __init__(self, x, y):\n",
    "        \"\"\"Initialize components x and y\"\"\"\n",
    "        self._x = x   # set calling object's _x data attribute\n",
    "        self._y = y   # set calling object\"s _y data attribute\n",
    "\n",
    "    def __str__(self):\n",
    "        \"\"\"print components x and y as a special 2 element vector\"\"\"\n",
    "        string = \"<< \" + str(self._x) + \", \" + str(self._y) + \" >>\"\n",
    "        return string\n",
    "\n",
    "    def length(self):\n",
    "        \"\"\"Return Cartesian length\"\"\"\n",
    "        import numpy as np\n",
    "        L = np.sqrt(self._x**2 + self._y**2)\n",
    "        return L\n",
    "    \n",
    "v = Vector(3.0          , 4.0          )\n",
    "print(\"The hypotenuse of a 3-4 right triangle:\")\n",
    "print(v.length())            # `self` references v\n",
    "print()\n",
    "\n",
    "import numpy as np\n",
    "w = Vector(-1.0/np.sqrt(2.0), 1.0/np.sqrt(2.0))\n",
    "print(\"A unit vector:\")      # to within floating point roundoff error, that is\n",
    "print(\"||w|| =\", w.length()) # `self` references w"
   ]
  },
  {
   "cell_type": "markdown",
   "metadata": {},
   "source": [
    "Now we add a `__add__` method that applies to the `+` operator."
   ]
  },
  {
   "cell_type": "code",
   "execution_count": null,
   "metadata": {},
   "outputs": [],
   "source": [
    "class Vector:\n",
    "    \"\"\"Defines Cartesian 2-vectors\"\"\"\n",
    "\n",
    "    _num_comp = 2\n",
    "    \n",
    "    def __init__(self, x, y):\n",
    "        \"\"\"Initialize components x and y\"\"\"\n",
    "        self._x = x   # set calling object's _x data attribute\n",
    "        self._y = y   # set calling object\"s _y data attribute\n",
    "\n",
    "    def __str__(self):\n",
    "        \"\"\"print components x and y as a special 2 element vector\"\"\"\n",
    "        string = \"<< \" + str(self._x) + \", \" + str(self._y) + \" >>\"\n",
    "        return string\n",
    "\n",
    "    def length(self):\n",
    "        \"\"\"Return Cartesian length\"\"\"\n",
    "        L = (self._x**2 + self._y**2)**0.5\n",
    "        return L\n",
    "\n",
    "    def __add__(self, vec):\n",
    "        \"\"\"Return Vector as sum of self and vec\"\"\"\n",
    "        v = Vector(self._x + vec._x,\n",
    "                   self._y + vec._y)\n",
    "        return v\n",
    "    \n",
    "u = Vector( 1.0, 1.0)\n",
    "v = Vector(-1.0, 1.0)\n",
    "w = u + v                    # self <-- u, vec <-- v, returns w\n",
    "print(u, \" + \", v, \" = \", w)"
   ]
  },
  {
   "cell_type": "markdown",
   "metadata": {},
   "source": [
    "We finish for now by adding an `__eq__` method to determine the equality of two vectors."
   ]
  },
  {
   "cell_type": "code",
   "execution_count": null,
   "metadata": {},
   "outputs": [],
   "source": [
    "class Vector:\n",
    "    \"\"\"Defines Cartesian 2-vectors\"\"\"\n",
    "\n",
    "    _num_comp = 2\n",
    "    \n",
    "    def __init__(self, x, y):\n",
    "        \"\"\"Initialize components x and y\"\"\"\n",
    "        self._x = x   # set calling object's _x data attribute\n",
    "        self._y = y   # set calling object\"s _y data attribute\n",
    "\n",
    "    def __str__(self):\n",
    "        \"\"\"print components x and y as a special 2 element vector\"\"\"\n",
    "        string = \"<< \" + str(self._x) + \", \" + str(self._y) + \" >>\"\n",
    "        return string\n",
    "\n",
    "    def length(self):\n",
    "        \"\"\"Return Cartesian length\"\"\"\n",
    "        L = (self._x**2 + self._y**2)**0.5\n",
    "        return L\n",
    "\n",
    "    def __add__(self, vec):\n",
    "        \"\"\"Return Vector as sum of self and vec\"\"\"\n",
    "        v = Vector(self._x + vec._x,\n",
    "                   self._y + vec._y)\n",
    "        return v\n",
    "\n",
    "    def __eq__(self, other):\n",
    "        \"\"\"Determine True or False for equality of two vectors, self and other\"\"\"\n",
    "        return (self._x == other._x and self._y == other._y)\n",
    "\n",
    "u = Vector( 1.0, 1.0)\n",
    "v = Vector(-1.0, 1.0)\n",
    "print(\"Are\", u, \"and\", v, \"equal? \", u == v)\n",
    "print(\" Is\", u, \"equal to itself? \", u == u)"
   ]
  },
  {
   "cell_type": "markdown",
   "metadata": {},
   "source": [
    "Observe that in our Vector class for 2D vectors we could have defined the `*` operator as the dot product in addition to or instead of defining the length method.\n",
    "\n",
    "You might also think about how we could extend this class to 3D vectors.  In the next Lesson we will learn about base classes and sub-classes to extend classes to create new types of variables by building on an existing class."
   ]
  },
  {
   "cell_type": "markdown",
   "metadata": {},
   "source": [
    "### 15.1.3 special attributes \\_\\_name\\_\\_ and \\_\\_doc\\_\\_"
   ]
  },
  {
   "cell_type": "markdown",
   "metadata": {},
   "source": [
    "The following is an example of using object attributes `__name__` and `__doc__`."
   ]
  },
  {
   "cell_type": "code",
   "execution_count": null,
   "metadata": {},
   "outputs": [],
   "source": [
    "def parabola(x):\n",
    "    \"\"\"a standard parabola (a=1, b=0, c=0)\"\"\"\n",
    "    y = x**2\n",
    "    return y\n",
    "\n",
    "def info(func):\n",
    "    \"\"\"Returns a string of information about mathematical function `func`\"\"\"\n",
    "    string  = \"   function:      \"   + func.__name__\n",
    "    string += \"\\n   which is for:  \" + func.__doc__\n",
    "    return string\n",
    "\n",
    "def do_stuff_with_a_function(function):\n",
    "    # Code to do stuff with the argument passed to parameter `function`...\n",
    "    #    ...but from inside here how do we know what was passed?\n",
    "    print(\"We're doing stuff using...\")\n",
    "    print(info(function))\n",
    "    # That's how we know!\n",
    "    return None\n",
    "    \n",
    "do_stuff_with_a_function(parabola)"
   ]
  },
  {
   "cell_type": "markdown",
   "metadata": {},
   "source": [
    "### 15.1.4  Jason's cat"
   ]
  },
  {
   "cell_type": "markdown",
   "metadata": {},
   "source": [
    "If you call one of your cats Kolby, then Kolby will be an instance of FelisCatus."
   ]
  },
  {
   "cell_type": "code",
   "execution_count": null,
   "metadata": {},
   "outputs": [],
   "source": [
    "\"\"\"A game by Benson Haley\"\"\"\n",
    "\n",
    "from random import randint\n",
    "\n",
    "catList = [] # A global list of all your cats.\n",
    "\n",
    "class FelisCatus:\n",
    "    \"\"\"Defines a cat with a name (string) and age (int).\"\"\"\n",
    "   \n",
    "    def __init__(self, name):\n",
    "        self.name = name\n",
    "        self.age = 0\n",
    "        voiceList = ['meow', 'purr', 'mrow', 'mew']\n",
    "        self.voice = voiceList[randint(0, len(voiceList)-1)]\n",
    "\n",
    "    def talk(self):\n",
    "        return (self.voice + '!')\n",
    "        \n",
    "        \n",
    "# Start the game loop:\n",
    "while (True):\n",
    "   \n",
    "    userInput = input(\"What would you like to do?\\n[F] Feed\\n[S] Call Stork\\n[W] Wait\\n[E] End\\nInput: \")\n",
    "\n",
    "    if (userInput == 'F'):\n",
    "        if (len(catList)) >= 1:\n",
    "            print(\"You feed your \" + str(len(catList)) + \" cat(s).\") # Tell the user how many cats they fed.\n",
    "            for cat in catList:\n",
    "                print(cat.name + \" says \" + cat.talk())\n",
    "            print()\n",
    "        else:\n",
    "            print(\"That's cat food, not people food.  Try calling the stork first.\")\n",
    "            print()\n",
    "       \n",
    "    elif (userInput == 'S'):\n",
    "        print(\"You dim the lights and light the candles, then call a stork to bring you a new kitten.\")\n",
    "        newCatName = input(\"What shall you name it: \")\n",
    "        catList.append( FelisCatus(newCatName) ) # Add the new cat to the list.\n",
    "        print()\n",
    "           \n",
    "    elif (userInput == 'W'):\n",
    "        print(\"You wait for a little while...\")\n",
    "        print()\n",
    "   \n",
    "    elif (userInput == 'E'):\n",
    "        print()\n",
    "        break # Leave the game loop.\n",
    "   \n",
    "    else:\n",
    "        print(\"Well that wasn't an action. You wait for a little while...\")\n",
    "        print()\n",
    "       \n",
    "    # Every time the game loops:\n",
    "    for cat in catList:\n",
    "        cat.age += 1 # Increase each cat's age.\n",
    "        \n",
    "# End of the game loop.\n",
    "\n",
    "# Print information about all of your cats.\n",
    "for cat in catList:\n",
    "    print(\"Your cat \" + cat.name + \" was \" + str(cat.age) + \" cycle(s) old.\")\n"
   ]
  },
  {
   "cell_type": "code",
   "execution_count": null,
   "metadata": {},
   "outputs": [],
   "source": []
  }
 ],
 "metadata": {
  "kernelspec": {
   "display_name": "Python 3 (ipykernel)",
   "language": "python",
   "name": "python3"
  },
  "language_info": {
   "codemirror_mode": {
    "name": "ipython",
    "version": 3
   },
   "file_extension": ".py",
   "mimetype": "text/x-python",
   "name": "python",
   "nbconvert_exporter": "python",
   "pygments_lexer": "ipython3",
   "version": "3.9.7"
  }
 },
 "nbformat": 4,
 "nbformat_minor": 2
}
