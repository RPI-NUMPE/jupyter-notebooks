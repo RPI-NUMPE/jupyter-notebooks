{
 "cells": [
  {
   "cell_type": "markdown",
   "metadata": {},
   "source": [
    "## 12.1:  Discretization"
   ]
  },
  {
   "cell_type": "markdown",
   "metadata": {},
   "source": [
    "Before the discretization example, we introduce a use of `try/except` to initialize a simulation.\n",
    "\n",
    "Put your cursor in the cell and click Run (or Shift+Enter).  Then put your cursor again in the cell or use the Up-Arrow key to reenter the cell to run it again and again."
   ]
  },
  {
   "cell_type": "code",
   "execution_count": null,
   "metadata": {},
   "outputs": [],
   "source": [
    "try:                # try the variable a\n",
    "    a\n",
    "except:             # if there is no variable `a` because this is the first run, an exception is raised...\n",
    "    a = 0           #    ...and trapped, and variable `a` is defined and initialized to zero\n",
    "    print(\"Simulation initialized with `a` = \", a)\n",
    "else:               # if `a` does exist because this cell has been run at least once...\n",
    "    if a < 2:       #    ...and if the maximum number of simulations has not been achieved...\n",
    "        a = a + 1   #    ...then increment to the next simulation\n",
    "        print(\"Simulation continues with `a` = \", a)\n",
    "    else:\n",
    "        print(\"Restarting simulation\")\n",
    "        del a       #    else `del` (delete) variable `a` from the Python namespace to retart the simulation"
   ]
  },
  {
   "cell_type": "code",
   "execution_count": null,
   "metadata": {},
   "outputs": [],
   "source": []
  },
  {
   "cell_type": "markdown",
   "metadata": {},
   "source": [
    "What does a plot of $y \\ = \\ cos(x^2)$ look like?  See if you can predict the shape of the function by observing its plot at at varying levels of discretization.  Note how the level of discretization changes what we might predict.\n",
    "\n",
    "Put your cursor in the cell and click Run (or Shift+Enter).  Then put your cursor again in the cell or use the Up-Arrow key to reenter the cell to cycle through variuous discretizations."
   ]
  },
  {
   "cell_type": "code",
   "execution_count": null,
   "metadata": {},
   "outputs": [],
   "source": [
    "\"\"\"Simulate various discretizations to plot\"\"\"\n",
    "\n",
    "def sim_plot_sinx2(d):\n",
    "    \"\"\"Plot sin(x**2) for varying discretizations `d` of x coordinates\n",
    "    \n",
    "    INPUT\n",
    "    d - index of discretization to display\n",
    "    \n",
    "    OUTPUT\n",
    "    d_max - maximum number of discretizations that can be displayed\n",
    "    \n",
    "    \"\"\"\n",
    "    import numpy as np\n",
    "\n",
    "    # vary the number of points to plot\n",
    "    discretization = np.array([10, 30, 50, 100, 1000])\n",
    "    d_max = discretization.size - 1      # -1 for Python indexing\n",
    "    \n",
    "    nx = discretization[d]\n",
    "\n",
    "    # --- Generate plot data -------------------------------------\n",
    "    x = np.linspace(-12, 12, nx)\n",
    "    y = np.cos(x**2)\n",
    "\n",
    "    # --- Make the plot ------------------------------------------\n",
    "    import matplotlib.pyplot as plt\n",
    "    plt.figure(1)\n",
    "    plt.plot(x, y, 'r.')                 # plot the data as points\n",
    "    plt.plot(x, y, '-r', lw=2)           # plot the data as lines\n",
    "    plt.xlabel('x', fontsize=14)         # label x axis\n",
    "    plt.ylabel('sin(x**2)', fontsize=14) # label y axis\n",
    "    plt.gca().grid()                     # add grid lines\n",
    "    title_string  = \"Discretization Example\\n\"\n",
    "    title_string += \"number of x-coordinates plotted:  \"\n",
    "    title_string += '{:d}'.format(nx)\n",
    "    plt.title(title_string)\n",
    "    plt.show()                           # display the plot\n",
    "    \n",
    "    return d_max\n",
    "\n",
    "# ================================================================\n",
    "# Let `s` be the index of a simulation to run and\n",
    "# `s_max` be the maximum number of simulations that can be run.\n",
    "#\n",
    "# Note that `s_max` is returned by the simulation function, so\n",
    "# at least s = 0 must be defined in the simulation function.\n",
    "\n",
    "try:\n",
    "    s\n",
    "except:\n",
    "    s = 0\n",
    "else:\n",
    "    if s < s_max:\n",
    "        s = s + 1\n",
    "    else:\n",
    "        s = 0\n",
    "s_max = sim_plot_sinx2(s)"
   ]
  },
  {
   "cell_type": "markdown",
   "metadata": {},
   "source": [
    "If you play with the code above and get stuck you may need to run the following cell to reinitialize the try/except process."
   ]
  },
  {
   "cell_type": "code",
   "execution_count": null,
   "metadata": {},
   "outputs": [],
   "source": [
    "del s"
   ]
  },
  {
   "cell_type": "code",
   "execution_count": null,
   "metadata": {},
   "outputs": [],
   "source": []
  }
 ],
 "metadata": {
  "kernelspec": {
   "display_name": "Python 3",
   "language": "python",
   "name": "python3"
  },
  "language_info": {
   "codemirror_mode": {
    "name": "ipython",
    "version": 3
   },
   "file_extension": ".py",
   "mimetype": "text/x-python",
   "name": "python",
   "nbconvert_exporter": "python",
   "pygments_lexer": "ipython3",
   "version": "3.8.5"
  }
 },
 "nbformat": 4,
 "nbformat_minor": 2
}
