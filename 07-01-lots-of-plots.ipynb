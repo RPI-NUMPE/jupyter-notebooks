{
 "cells": [
  {
   "cell_type": "markdown",
   "metadata": {},
   "source": [
    "# 7.1:  lots of plots"
   ]
  },
  {
   "cell_type": "markdown",
   "metadata": {},
   "source": [
    "This notebook uses the`matplotlib` library to create plots within Python.  Make sure you import matplotlib.pyplot in your own work, as needed.  It is common to import this as simply \"plt\":  `import matplotlib.pyplt as plt`\n",
    "\n",
    "Occasionally in a Jupyter Notebook, the first time you run code to produce a plot the plot will not generate.  You may need to run the cell a second time to make the plot appear."
   ]
  },
  {
   "cell_type": "markdown",
   "metadata": {},
   "source": [
    " ### 7.1.1  building a simple plot\n",
    "\n",
    "We start with some data to plot.  Nothing complicated yet.  (When you run the next cell remember that there may be a short lag as numpy imports for the first time.)"
   ]
  },
  {
   "cell_type": "code",
   "execution_count": null,
   "metadata": {},
   "outputs": [],
   "source": [
    "import numpy as np\n",
    "x = np.array([1., 2., 3., 4.])\n",
    "y = x**2                        # yes, the `**` operator works for arrays\n",
    "\n",
    "# `y` was automatically created as a NumPy array by the statement `y = x**2`\n",
    "#    The right side evaluates to a 4-element 1D NumPy array, and that result\n",
    "#    is then assigned to a memory location named 'y'.\n",
    "\n",
    "print(\"x = \", x)\n",
    "print(\"y = \", y)"
   ]
  },
  {
   "cell_type": "markdown",
   "metadata": {},
   "source": [
    "Let's make the simplest plot we can:  `figure` number \"1\", a `plot` with x and y coordinates (as arrays, from the cell above), which we then `show`.\n",
    "\n",
    "(Again, there may be a short lag when matplotlib is imported for the first time.)\n",
    "\n",
    "We just happened to name the arrays \"x\" and \"y\".  If we had arrays of x-coodinates and y-coordinates named flotsam and jetsam, respectively, we would call `plt.plot(flotsam, jetsam)`.  The order of the arrays as arguments to \"plot\" is important, not the names of the variables."
   ]
  },
  {
   "cell_type": "code",
   "execution_count": null,
   "metadata": {},
   "outputs": [],
   "source": [
    "import numpy as np\n",
    "x = np.array([1., 2., 3., 4.])   # the x-coordinates as a 1D array\n",
    "y = x**2                         # the y-coordinates as a 1D array\n",
    "\n",
    "import matplotlib.pyplot as plt  # note the import as `plt` for convenience\n",
    "plt.figure(1)                    # figure number 1\n",
    "plt.plot(x, y)                   # plot the arrays of `x` and `y` coordinates\n",
    "plt.show()                       # display the plot on the screen"
   ]
  },
  {
   "cell_type": "markdown",
   "metadata": {},
   "source": [
    "You can see that with minimal information matplotlib is able to come up with a plot with reasonably scaled axes that shows all of the data.\n",
    "\n",
    "We will do better in three ways:  one required, one sometimes required, and one usually optional in this course.\n",
    "<ol>\n",
    "    <li><b>axis labels</b> -- these are required, and must be useful to a peer in this course looking at your plot.  Be sure to include units as applicable.</li>\n",
    "    <li><b>a title</b> -- when required this must be descriptive of the plot, not a redundant statement of the axis labels.  A good title will describe what you want someone to see in your plot.  If the plot is given a caption (e.g., in a report as, for example, \"Figure 1: a discretized quadratic\") then a plot title is not shown because the caption serves to tell the reader what to see in the plot.</li>\n",
    "    <li><b>grid lines</b> -- these are usually optional, but may be convenient for someone using your plot.</li>\n",
    "</ol>\n"
   ]
  },
  {
   "cell_type": "code",
   "execution_count": null,
   "metadata": {},
   "outputs": [],
   "source": [
    "import numpy as np\n",
    "x = np.array([1., 2., 3., 4.])\n",
    "y = x**2\n",
    "\n",
    "import matplotlib.pyplot as plt\n",
    "plt.figure(1)\n",
    "plt.plot(x, y)\n",
    "\n",
    "# construct a title string\n",
    "plt.title(\"Don't ever title your plot 'y vs. x'\")\n",
    "\n",
    "# label the x- and y-axes\n",
    "plt.xlabel('abscissa')\n",
    "plt.ylabel('ordinate') \n",
    "\n",
    "# add grid lines\n",
    "plt.gca().grid()\n",
    "\n",
    "plt.show()"
   ]
  },
  {
   "cell_type": "markdown",
   "metadata": {},
   "source": [
    "In `figure` we can set the `figsize` of the plot &ndash; which we can't see the result of in this notebook, but when we send the plot to a file for printing or to display as a .png picture the size will make a difference.\n",
    "\n",
    "In `plot` we change the data to points ('o') in red ('r').  Simple choices of plot style and color can be made with a short string this way.\n",
    "\n",
    "The text is rather small, so we use the `fontsize` keyword to increase that."
   ]
  },
  {
   "cell_type": "code",
   "execution_count": null,
   "metadata": {},
   "outputs": [],
   "source": [
    "import numpy as np\n",
    "x = np.array([1., 2., 3., 4.])\n",
    "y = x**2\n",
    "\n",
    "import matplotlib.pyplot as plt\n",
    "plt.figure(1, figsize=(6, 4))             # 6in wide x 4in high figure\n",
    "plt.plot(x, y, 'or')                      # data points, 'o', in red, 'r'\n",
    "\n",
    "# construct title string\n",
    "plt.title(\"A Quadratic\", fontsize=14)     # increase fontsize to 14 points\n",
    "\n",
    "# label the x- and y-axes\n",
    "plt.xlabel('abscissa')\n",
    "plt.ylabel('ordinate') \n",
    "\n",
    "# add grid lines\n",
    "plt.gca().grid()\n",
    "\n",
    "plt.show()"
   ]
  },
  {
   "cell_type": "markdown",
   "metadata": {},
   "source": [
    "Let's now add a function to display with the data.  Before that, however, recall NumPy's `linspace` function for creating a set of evenly spaced numbers.  (This function was first introduced in Jupyter Notebook 02-01, Section 2.1.3.)"
   ]
  },
  {
   "cell_type": "code",
   "execution_count": null,
   "metadata": {},
   "outputs": [],
   "source": [
    "import numpy as np\n",
    "x10 = np.linspace(0, 10, 11)   # generate 11 values from 0 to 10 inclusive\n",
    "print(x10)"
   ]
  },
  {
   "cell_type": "code",
   "execution_count": null,
   "metadata": {},
   "outputs": [],
   "source": [
    "print(np.linspace(1, 2, 4))   # what array will this produce?"
   ]
  },
  {
   "cell_type": "code",
   "execution_count": null,
   "metadata": {},
   "outputs": [],
   "source": [
    "print(np.linspace(-1, 1, 5))  # what array will this produce?"
   ]
  },
  {
   "cell_type": "markdown",
   "metadata": {},
   "source": [
    "Now we add code to:\n",
    "<ul>\n",
    "    <li>define the function to plot, ingloriously named \"func2plot\"</li>\n",
    "    <li>use linspace to generate a relatively large array of x-coordinates to smoothly plot the function at</li>\n",
    "    <li>use the function to compute an array of y-coordinates to plot</li>\n",
    "    <li>display the function as a black line using the '-k' string</li>\n",
    "</ul>\n",
    "Notice that matplotlib adjusts the axis scales and ranges appropriately."
   ]
  },
  {
   "cell_type": "code",
   "execution_count": null,
   "metadata": {},
   "outputs": [],
   "source": [
    "import numpy as np\n",
    "x = np.array([1., 2., 3., 4.])\n",
    "y = x**2\n",
    "\n",
    "def func2plot(x):                  # the function we will plot\n",
    "    \"scaled tangent function\"      # we will later see that a one line doctring is intentional in this example\n",
    "    import numpy as np             # remember that it never hurts to import NumPy whenever you want\n",
    "    y = np.tan(x/2.6)              # np.tan, not math.tan (see comments below)\n",
    "    return y\n",
    "\n",
    "# create x, y coordinates to plot function\n",
    "xfunc = np.linspace(0.0, 4.0, 101) # generate an array with 101 values between 0.0 and 4.0 inclusive\n",
    "yfunc = func2plot(xfunc)           # pass that array to `func2plot`\n",
    "                                   #    recall that np.tan can handle arrays (math.tan cannot)\n",
    "import matplotlib.pyplot as plt\n",
    "plt.figure(1, figsize=(6, 4))\n",
    "plt.plot(x    , y    , 'or')\n",
    "plt.plot(xfunc, yfunc, '-k')       # plot the function as a black line, '-k'\n",
    "\n",
    "# construct title string\n",
    "plt.title(\"Comparing a Tangent Curve with Quadratic Data\", fontsize=14)     # always descriptive\n",
    "\n",
    "# label the x- and y-axes\n",
    "plt.xlabel('x', fontsize=14)       # maybe 'x' is an appropriate axis label in this case, as is 'y'\n",
    "plt.ylabel('y', fontsize=14)       # But then don't title the plot 'y versus x' because\n",
    "                                   #    that's obvious from these labels\n",
    "# add grid lines\n",
    "plt.gca().grid()\n",
    "\n",
    "plt.show()"
   ]
  },
  {
   "cell_type": "markdown",
   "metadata": {},
   "source": [
    "When there is more than one set of information in a plot you should have a legend.  In this course a legend will generally be required when there is more than one set information to display.\n",
    "\n",
    "A legend is added using the `legend` function.  In this example we place the legend in quadrant 2 of the plot, the upper left corner.  Never, ever let your legend obscure your data.\n",
    "\n",
    "We also set the axis ranges manually using `xlim` and `ylim` to better show whatever it is we want to show."
   ]
  },
  {
   "cell_type": "code",
   "execution_count": null,
   "metadata": {},
   "outputs": [],
   "source": [
    "import numpy as np\n",
    "x = np.array([1., 2., 3., 4.])\n",
    "y = x**2\n",
    "\n",
    "def func2plot(x):\n",
    "    \"scaled tangent function\"\n",
    "    import numpy as np\n",
    "    y = np.tan(x/2.6)\n",
    "    return y\n",
    "\n",
    "# create x, y coordinates to plot function\n",
    "xfunc = np.linspace(0.0, 4.0, 101)\n",
    "yfunc = func2plot(xfunc)\n",
    "\n",
    "import matplotlib.pyplot as plt\n",
    "plt.figure(1, figsize=(6, 4))\n",
    "plt.plot(x    , y    , 'or', label='data')            # add descriptive legend label\n",
    "plt.plot(xfunc, yfunc, '-k', label='scaled tangent')  # add descriptive legend label\n",
    "\n",
    "# construct title string\n",
    "plt.title(\"Comparing a Tangent Curve with Quadratic Data\", fontsize=14)\n",
    "\n",
    "# label the x- and y-axes\n",
    "plt.xlabel('x', fontsize=14)\n",
    "plt.ylabel('y', fontsize=14)\n",
    "\n",
    "# scale axes\n",
    "plt.xlim(0.0,  4.1)               # start the x axis at 0.0 and stop at 4.1 to display the entire red dot at 4.0\n",
    "plt.ylim(0.0, 20.0)               # the line goes past 30 at x = 4.0, but we decided we didn't need to see that\n",
    "\n",
    "# add legend and grid lines\n",
    "plt.legend(fontsize=12, loc=2)    # add the legend in quadrant 2 of the plot so it does not obscure any data\n",
    "plt.gca().grid()\n",
    "\n",
    "plt.show()"
   ]
  },
  {
   "cell_type": "markdown",
   "metadata": {},
   "source": [
    "Because the title, labels, and legend labels are strings you can get quite fancy in building informative strings, as shown below."
   ]
  },
  {
   "cell_type": "code",
   "execution_count": null,
   "metadata": {},
   "outputs": [],
   "source": [
    "import numpy as np\n",
    "x = np.array([1., 2., 3., 4.])\n",
    "y = x**2\n",
    "\n",
    "def func2plot(x):\n",
    "    \"scaled tangent function\"                            # this one line docstring is used below\n",
    "    import numpy as np\n",
    "    y = np.tan(x/2.6)\n",
    "    return y\n",
    "\n",
    "# create x, y coordinates to plot function\n",
    "xfunc = np.linspace(0.0, 4.0, 101)\n",
    "yfunc = func2plot(xfunc)\n",
    "\n",
    "import matplotlib.pyplot as plt\n",
    "plt.figure(1, figsize=(6, 4))\n",
    "plt.plot(x    , y    , 'or', label='quadratic data')\n",
    "plt.plot(xfunc, yfunc, '-k', label=func2plot.__doc__)   # use docstring as descriptive legend label\n",
    "\n",
    "# construct title string\n",
    "title  = \"Comparing a Tangent Curve with Quadratic Data\\n\"\n",
    "title += \"in the interval x = \" + str(np.min(x))\n",
    "title += \" to x = \" + str(np.max(x))\n",
    "plt.title(title, fontsize=14)                           # build a multi-line title string \n",
    "\n",
    "# label the x- and y-axes\n",
    "plt.xlabel('x [units of x]', fontsize=14)\n",
    "plt.ylabel('y [units of y]', fontsize=14)\n",
    "\n",
    "# scale axes\n",
    "plt.xlim(0.0,  4.1)\n",
    "plt.ylim(0.0, 20.0)\n",
    "\n",
    "# add legend and grid lines\n",
    "plt.legend(fontsize=12, loc=2)\n",
    "plt.gca().grid()\n",
    "\n",
    "plt.show()"
   ]
  },
  {
   "cell_type": "markdown",
   "metadata": {},
   "source": [
    "### 7.1.2  the plot in Preliminaries Section 7.5"
   ]
  },
  {
   "cell_type": "code",
   "execution_count": null,
   "metadata": {},
   "outputs": [],
   "source": [
    "\"\"\"Plot Sea Level Data\"\"\"\n",
    "\n",
    "# =============================================================================\n",
    "# Import the data\n",
    "# =============================================================================\n",
    "import numpy as np\n",
    "tdata, sdata = np.loadtxt(\"sea-level-data.txt\",         \\\n",
    "                          skiprows=50, usecols=(2,8),   \\\n",
    "                          unpack=True)\n",
    "\n",
    "# =============================================================================\n",
    "# Create the plot\n",
    "# =============================================================================\n",
    "import matplotlib.pyplot as plt\n",
    "\n",
    "plt.figure(1, figsize=(6, 4))    # 6in x 4in figure\n",
    "plt.plot(tdata, sdata,                       \\\n",
    "         marker='o', color='silver',         \\\n",
    "         markerfacecolor='w', markersize=6,  \\\n",
    "         linestyle='solid', linewidth=0,     \\\n",
    "         label='data')\n",
    "# =============================================================================\n",
    "# Add two-point fit\n",
    "# =============================================================================\n",
    "#plt.plot([1995., 2015.], [-30., 30.], 's-b' , label='2-point fit')\n",
    "\n",
    "# =============================================================================\n",
    "# Add linear least squares fit\n",
    "# =============================================================================\n",
    "import leastsquares\n",
    "A = np.ones((tdata.shape[0], 2))\n",
    "A[:,1] = tdata[:]\n",
    "x = leastsquares.solve_ls(A, sdata)\n",
    "d, r = x[0], x[1]                      # store intercept and slope\n",
    "t = np.linspace(np.amin(tdata), np.amax(tdata), 100)\n",
    "s = r*t + d                            # get the sea-level rise based on the fit\n",
    "plt.plot(t, s, '-r', lw=2, label='linear fit')\n",
    "\n",
    "# construct title string\n",
    "title_string  = \"NASA Goddard Global Mean Sea Level (GMSL) variations\"\n",
    "plt.title(title_string, fontsize=14)\n",
    "\n",
    "# label the x- and y-axes\n",
    "plt.xlabel('time [years]'       , fontsize=14)\n",
    "plt.ylabel('sea-level rise [mm]', fontsize=14) \n",
    "\n",
    "plt.legend(fontsize=12, loc=[0.65, 0.1])   # display the legend at 1.0 x 1.0 plot coordinates (0.65, 0.1)\n",
    "plt.gca().grid()                           # add grid lines\n",
    "\n",
    "# save to file if desired\n",
    "# =============================================================================\n",
    "# True  - displays and saves the plot to file;\n",
    "# False - only displays the plot\n",
    "save_plot_to_file = True\n",
    "filename = 'sea-level-data_linear_fit.png'\n",
    "# =============================================================================\n",
    "if (save_plot_to_file):\n",
    "    plt.savefig(filename, dpi=300, edgecolor='none')\n",
    "plt.show()"
   ]
  },
  {
   "cell_type": "code",
   "execution_count": null,
   "metadata": {},
   "outputs": [],
   "source": []
  }
 ],
 "metadata": {
  "kernelspec": {
   "display_name": "Python 3",
   "language": "python",
   "name": "python3"
  },
  "language_info": {
   "codemirror_mode": {
    "name": "ipython",
    "version": 3
   },
   "file_extension": ".py",
   "mimetype": "text/x-python",
   "name": "python",
   "nbconvert_exporter": "python",
   "pygments_lexer": "ipython3",
   "version": "3.8.5"
  }
 },
 "nbformat": 4,
 "nbformat_minor": 2
}
