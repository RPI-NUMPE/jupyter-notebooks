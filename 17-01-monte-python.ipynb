{
 "cells": [
  {
   "cell_type": "markdown",
   "metadata": {},
   "source": [
    "## 17.1:  monte python"
   ]
  },
  {
   "cell_type": "markdown",
   "metadata": {},
   "source": [
    "We start this notebook with a simple game:  heads I win, tails you lose.\n",
    "\n",
    "What values do you get when you run this cell again and again?"
   ]
  },
  {
   "cell_type": "code",
   "execution_count": null,
   "metadata": {},
   "outputs": [],
   "source": [
    "import random\n",
    "prn = random.random()    # uniform pseudorandom number (prn) in interval [0.0, 1.0)\n",
    "print(prn)"
   ]
  },
  {
   "cell_type": "markdown",
   "metadata": {},
   "source": [
    "Now run this cell again and again.  What <u>value</u> do you get?"
   ]
  },
  {
   "cell_type": "code",
   "execution_count": null,
   "metadata": {},
   "outputs": [],
   "source": [
    "import random\n",
    "random.seed(12345678)    # specify a position in the random number sequence to start\n",
    "prn = random.random()    # uniform prn [0.0, 1.0)\n",
    "print(prn)"
   ]
  },
  {
   "cell_type": "markdown",
   "metadata": {},
   "source": [
    "### 17.1.1:  a simple random number generator\n",
    "\n",
    "<i>Linear Congruential Generators</i> are very simple pseudorandom number generators to implement.  The classic is the Park & Miller generator which has some reasonably good statistical properties of randomness.  It is implemented here to list ten pseudorandom numbers.  Note how the seed is updated by each successive random integer produced by the generator."
   ]
  },
  {
   "cell_type": "code",
   "execution_count": null,
   "metadata": {},
   "outputs": [],
   "source": [
    "multiplier =       48271\n",
    "modulus    =  2147483647\n",
    "seed       = 12345678910\n",
    "\n",
    "def lcg(iprn):\n",
    "    \"\"\"pseudorandom number generator based on Park & Miller revised algorithm.\"\"\"\n",
    "    iprn = (multiplier * iprn) % modulus\n",
    "    return iprn\n",
    "\n",
    "for i in range(10):\n",
    "    iprn = lcg(seed)\n",
    "    prn = iprn / modulus\n",
    "    print(prn)\n",
    "    seed = iprn"
   ]
  },
  {
   "cell_type": "markdown",
   "metadata": {},
   "source": [
    "However, all linear congruential generators have a fundamental flaw.\n",
    "\n",
    "Below is an even simpler generator to clearly see what the problem is.  When linear congruential generators are used to specify 2D coordinates, the coordinates all fall along specific lines.  Or, in 3D, along planes.  It is impossible to generate \"random\" coordinates not on these lines (or not in the planes), making any assertion of randomness highly questionable."
   ]
  },
  {
   "cell_type": "code",
   "execution_count": null,
   "metadata": {},
   "outputs": [],
   "source": [
    "import numpy as np\n",
    "def bad_lcg(iprn):\n",
    "    '''a really crummy linear congruential\n",
    "       pseudorandom number generator'''\n",
    "    iprn = (17 * iprn) % 113\n",
    "    return iprn\n",
    "seed = 97\n",
    "iprn = bad_lcg(seed)\n",
    "\n",
    "xy = np.zeros([100,2])\n",
    "for i in range(100):\n",
    "    iprn = bad_lcg(iprn) ; prn = iprn/113 ; xy[i,0] = prn\n",
    "    iprn = bad_lcg(iprn) ; prn = iprn/113 ; xy[i,1] = prn\n",
    "#    print(\"x, y =\", xy[i,0], xy[i,1])  # cycle is 54\n",
    "\n",
    "import matplotlib.pyplot as plt\n",
    "plt.figure(1)\n",
    "plt.plot(xy[:,0], xy[:,1], 'ob', lw=2)\n",
    "plt.xlabel('x' , fontsize=12)\n",
    "plt.ylabel('y', fontsize=12)\n",
    "plt.show()\n",
    "print(\"Random numbers fall mainly in the planes\")\n",
    "print(\"   -- George Marsaglia\")"
   ]
  },
  {
   "cell_type": "markdown",
   "metadata": {},
   "source": [
    "### 17.1.2:  a Monte Carlo simulation to demonstrate the exercise in Preliminaries Section 17.2\n",
    "\n",
    "You may want to try the \"guess 25 random digits\" game in Preliminaries Section 17.2 before you look at and run this code."
   ]
  },
  {
   "cell_type": "code",
   "execution_count": null,
   "metadata": {},
   "outputs": [],
   "source": [
    "import random\n",
    "import numpy as np\n",
    "\n",
    "nsims = 10000  # number of simulations to run\n",
    "n = 25         # number of digits to sample in each simulation\n",
    "\n",
    "array = np.zeros(n)   # array of n random digits\n",
    "tally = 0             # tally counts the number of samples of size n with at least one double\n",
    "\n",
    "for j in range(nsims):\n",
    "    array[0] = random.randint(0, 9)        # get the first digit\n",
    "    for i in range(1, n):                  # loop over remaining digits to sample\n",
    "        array[i] = random.randint(0, 9)\n",
    "        # if there are there two of the same digit in a row and ignore the possibility\n",
    "        # that it is a triple, quadruple, etc., or that there could be more doubles in\n",
    "        # the array.  The presence of at least two in a row triggers a tally.\n",
    "        if (array[i] == array[i-1]):\n",
    "            tally += 1\n",
    "            break        # double detected; go to next simulation\n",
    "frac = tally/nsims       # convert to fraction\n",
    "print(\"Fraction of sequences of\", n, \"digits with at least one double (as %) = \", 100.0*frac)"
   ]
  },
  {
   "cell_type": "markdown",
   "metadata": {},
   "source": [
    "### 17.1.3:  flipping a coin, again and again and again and...\n",
    "\n",
    "So computers generating pseudorandom numbers (using a decent algorithm) may do better than humans, but will it always be fair?  Ok, but will it always <u>feel</u> fair?"
   ]
  },
  {
   "cell_type": "code",
   "execution_count": null,
   "metadata": {},
   "outputs": [],
   "source": [
    "\"\"\"A fair (?) game -- tossing a coin\"\"\"\n",
    "\n",
    "import random\n",
    "random.seed(20200407)\n",
    "\n",
    "n_trials = 10\n",
    "n_heads  = 0\n",
    "for i in range(n_trials):\n",
    "    prn = random.random()    # uniform [0, 1.0)\n",
    "    if (prn < 0.5):\n",
    "        n_heads += 1\n",
    "win = 100 * (n_heads / n_trials)\n",
    "print(\"winnings = \" + str(win) + \"%\")"
   ]
  },
  {
   "cell_type": "markdown",
   "metadata": {},
   "source": [
    "Are you satisfied that you only won 30% of the time?  Does that seem fair?\n",
    "\n",
    "To reconcile that you need to take or recall MAU -- ENGR-2600 Modeling & Analysis of Uncertainty.  In particular, <b><i>the law of large numbers:</i></b>  \"the average of results from a <u>large number</u> of trials should be <u>close</u> to the expected value, and will <u>tend</u> to become closer as more trials are performed.”"
   ]
  },
  {
   "cell_type": "code",
   "execution_count": null,
   "metadata": {},
   "outputs": [],
   "source": [
    "import random\n",
    "random.seed(20200407)\n",
    "for n_trials in [10, 100, 1000, 10000, 100000, 1000000]:\n",
    "    n_heads  = 0\n",
    "    for i in range(n_trials):\n",
    "        prn = random.random()    # uniform [0, 1.0)\n",
    "        if (prn < 0.5):\n",
    "            n_heads += 1\n",
    "    win = 100 * (n_heads / n_trials)\n",
    "    print(\"winnings = \" + str(win) + \"%\")"
   ]
  },
  {
   "cell_type": "markdown",
   "metadata": {},
   "source": [
    "Run the code below to observe how numerous flips of a coin tends toward 50% heads.  But then try different seeds and different numbers of sumulations and question how well anything converges when it is random."
   ]
  },
  {
   "cell_type": "code",
   "execution_count": null,
   "metadata": {},
   "outputs": [],
   "source": [
    "from math import pi\n",
    "import numpy as np\n",
    "import matplotlib.pyplot as plt\n",
    "import random\n",
    "random.seed(20200407)    # try the 6th and the 8th as well\n",
    "\n",
    "n_total  = 2000          # 2000 simulations looks nice; 3000 actually less so\n",
    "darts = np.zeros(n_total)\n",
    "pie   = np.zeros(n_total)\n",
    "\n",
    "tally = 0\n",
    "for n in range(n_total):            # loop over darts thrown\n",
    "    x = 2.0*random.random() - 1.0   # scale x coordinate to [-1.0, 1.0)\n",
    "    y = 2.0*random.random() - 1.0   # scale y coordinate to [-1.0, 1.0)\n",
    "    if (x**2 + y**2 <= 1.0):        # is the random coordinate inside the circle?\n",
    "        tally += 1\n",
    "    darts[n] = float(n+1)           # start with 1st dart, not 0th dart\n",
    "    pie[n]   = 4.0 * tally / darts[n]\n",
    "\n",
    "plt.figure(1, figsize=(10, 4))                   # wide figure\n",
    "plt.xlim(0.0, float(n_total))                    # restrict x domain to 0, n_total\n",
    "plt.ylim(2.4, 4.0)                               # restrict y range to around pi = 3.14\n",
    "plt.plot([0.0, float(n_total)], [pi, pi], '-b')  # line [x1, x2], [y1, y2] showing pi\n",
    "plt.plot(darts, pie, '-r', lw=2)                 # red line is evolution of darts thrown\n",
    "plt.xlabel('number of darts' , fontsize=12)\n",
    "plt.ylabel('estimate of pi', fontsize=12)\n",
    "plt.gca().grid()\n",
    "plt.show()"
   ]
  },
  {
   "cell_type": "code",
   "execution_count": null,
   "metadata": {},
   "outputs": [],
   "source": []
  }
 ],
 "metadata": {
  "kernelspec": {
   "display_name": "Python 3 (ipykernel)",
   "language": "python",
   "name": "python3"
  },
  "language_info": {
   "codemirror_mode": {
    "name": "ipython",
    "version": 3
   },
   "file_extension": ".py",
   "mimetype": "text/x-python",
   "name": "python",
   "nbconvert_exporter": "python",
   "pygments_lexer": "ipython3",
   "version": "3.9.7"
  }
 },
 "nbformat": 4,
 "nbformat_minor": 2
}
