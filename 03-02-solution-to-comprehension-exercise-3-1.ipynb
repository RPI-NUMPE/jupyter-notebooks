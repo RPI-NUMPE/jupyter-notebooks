{
 "cells": [
  {
   "cell_type": "markdown",
   "metadata": {},
   "source": [
    "# 3.2:  solution to Comprehension Exercise 3.1"
   ]
  },
  {
   "cell_type": "markdown",
   "metadata": {},
   "source": [
    "Starting from your solutions to Comprehension Exercise 2.1 (for the dot product) and the In-Class Exercise from Section 2.4 (for normalizing a vector), rewrite these operations as functions, and use them in a new function to compute the angle θ in degrees between vectors u and v according to the alternative formula for the dot product:\n",
    "\n",
    "$$\n",
    "\\underline{\\textbf{u}} \\: \\cdot \\: \\underline{\\textbf{v}} \\ \\ = \\ \\  \\sum_{i=1}^{n} \\: u_i \\, v_i \\ \\ = \\ \\ || \\underline{\\textbf{u}} || \\: || \\underline{\\textbf{v}} || \\: cos(\\theta)\n",
    "$$\n",
    "\n",
    "\n",
    "\n",
    "Hint:  you can use vector algebra to rewrite the above as\n",
    "\n",
    "$$\n",
    "\\theta \\ \\ = \\ \\ \\cos^{-1}\\left( \\frac{\\underline{\\textbf{u}}}{|| \\underline{\\textbf{u}} ||} \\, \\cdot \\, \\frac{\\underline{\\textbf{v}}}{|| \\underline{\\textbf{v}} ||} \\right)\n",
    "$$\n",
    "\n",
    "\n",
    "Use `from math import acos` to access the inverse cosine (i.e., the arccosine).  Don’t forget to convert θ to degrees.\n",
    "\n",
    "Note that the function `dot_product` should be defined first so that the subsequent functions know how to call it. Also observe whether you think the docstrings are adequate.  __We will often shorten or eliminate the docstrings in our examples so you can focus on the body of the code, but don't take that as permission to do the same in what you submit for a grade.__"
   ]
  },
  {
   "cell_type": "code",
   "execution_count": null,
   "metadata": {},
   "outputs": [],
   "source": [
    "def dot_product(u, v):\n",
    "    \"\"\"Return dot product of two vectors.\"\"\"\n",
    "    dot = 0.0\n",
    "    for i in range(u.size):   # note that the .size attribiute only applies to NumPy ndarrays, but there is\n",
    "        dot += u[i]*v[i]      #    nothing in the (therefore inadequate) docstring to warn a user about this.\n",
    "    return dot\n",
    "\n",
    "def normalize_vector(u):\n",
    "    \"\"\"Return normalized vector.\"\"\"\n",
    "    norm = (dot_product(u, u))**0.5   # uses the previously defined (and inadequately\n",
    "    u_norm = u / norm                 #     docstringed) dot_product function\n",
    "    return u_norm\n",
    "\n",
    "def angle_between_vectors(u, v):\n",
    "    \"\"\"Compute the angle in degrees between two vectors.\"\"\"\n",
    "    import math\n",
    "    import numpy as np\n",
    "    rtheta = math.acos( dot_product(normalize_vector(u), normalize_vector(v)) )    # triple nested function calls\n",
    "    theta = np.rad2deg(rtheta)\n",
    "    return theta\n",
    "\n",
    "import numpy as np\n",
    "u = np.array([1., 0., 0.])\n",
    "v = np.array([0., 1., 0.])\n",
    "theta = angle_between_vectors(u, v)\n",
    "print(\"The angle between vectors\\n\", u, \"and\", v, \"is\\n\", theta, \"degrees\")\n"
   ]
  },
  {
   "cell_type": "code",
   "execution_count": null,
   "metadata": {},
   "outputs": [],
   "source": []
  }
 ],
 "metadata": {
  "kernelspec": {
   "display_name": "Python 3",
   "language": "python",
   "name": "python3"
  },
  "language_info": {
   "codemirror_mode": {
    "name": "ipython",
    "version": 3
   },
   "file_extension": ".py",
   "mimetype": "text/x-python",
   "name": "python",
   "nbconvert_exporter": "python",
   "pygments_lexer": "ipython3",
   "version": "3.8.5"
  }
 },
 "nbformat": 4,
 "nbformat_minor": 2
}
