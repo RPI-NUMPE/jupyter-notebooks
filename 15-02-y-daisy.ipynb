{
 "cells": [
  {
   "cell_type": "markdown",
   "metadata": {},
   "source": [
    "## 15.2:  y daisy\n",
    "\n",
    "This scientific computation proves that all numbers converge to four.  In English, anyway :)"
   ]
  },
  {
   "cell_type": "code",
   "execution_count": null,
   "metadata": {
    "scrolled": true
   },
   "outputs": [],
   "source": [
    "\"\"\"Proof that all numbers converge to four.\"\"\"\n",
    "\n",
    "class ItsMyClass:\n",
    "    \"\"\"ItsMyClass and I can define `equal` however I want to!\"\"\"\n",
    "\n",
    "    # `n_string` is a class variables\n",
    "    n_string = [\"zero\", \"one\", \"two\", \"three\", \"four\", \"five\",                             \\\n",
    "                \"six\", \"seven\", \"eight\", \"nine\", \"ten\",                                    \\\n",
    "                \"eleven\", \"twelve\", \"thirteen\", \"fourteen\", \"fifteen\",                     \\\n",
    "                \"sixteen\", \"seventeen\", \"eighteen\", \"nineteen\", \"twenty\",                  \\\n",
    "                \"twenty-one\", \"twenty-two\", \"twenty-three\", \"twenty-four\", \"twenty-five\"]\n",
    "\n",
    "    # get the longest string in n_string as a class variable, for pretty string formatting.\n",
    "    max_n_string_len = -1\n",
    "    for i in range(len(n_string)):   # here len gives the number of elements in the list\n",
    "        L = len(n_string[i])         # here len gives the number of characters in the string element\n",
    "        if (L > max_n_string_len):\n",
    "            max_n_string_len = L\n",
    "    \n",
    "    # a variable of type ItsMyClass has a magnitude _n, a string representation _str,\n",
    "    # and the length of the string representation _len\n",
    "    def __init__(self, n):\n",
    "        assert (type(n) == int and n >= 0), \"The number must be a non-negative integer.\"\n",
    "        nstr = ItsMyClass.n_string\n",
    "        max_n = len(nstr)-1   # -1 because 0 actually starts with zero\n",
    "        assert (n <= max_n), \"You are limited to n between 0 and \" + str(max_n)\n",
    "        self._n   = n\n",
    "        self._str = nstr[n]\n",
    "        self._len = len(nstr[n])\n",
    "\n",
    "    def __str__(self):\n",
    "        \"\"\"how to print a variable of type ItsMyClass\"\"\"\n",
    "        width = ItsMyClass.max_n_string_len\n",
    "        string  = '{:>{width}}'.format(self._str, width=width)\n",
    "        string += \" is of length \"  + '{:2d}'.format(self._len)\n",
    "        string += \" so it equals \"  + ItsMyClass.n_string[self._len]\n",
    "        return string\n",
    "\n",
    "    def __eq__(self, other):\n",
    "        \"\"\"my definition of equals is when the magnitude of the variables are equal\"\"\"\n",
    "        return (self._n == other._n)\n",
    "\n",
    "    def get_len(self):\n",
    "        \"\"\"how to get the magnitude of a variable\"\"\"\n",
    "        return int(self._len)\n",
    "\n",
    "# Now the code proper where it is shown that\n",
    "# all numbers converge to four.\n",
    "\n",
    "for n in range(0, len(ItsMyClass.n_string)):\n",
    "    new = ItsMyClass(n)\n",
    "    print(\"\\n***\", new)\n",
    "    while (True):\n",
    "        old = new\n",
    "        new = ItsMyClass(old.get_len())           # make a new number from the length of the old number\n",
    "        if (new == old):                          # are new and old the same?  If so, we've converged.\n",
    "            print(\" See?  We converged to four!\")\n",
    "            break\n",
    "        print(3*\" \", new)\n"
   ]
  },
  {
   "cell_type": "code",
   "execution_count": null,
   "metadata": {},
   "outputs": [],
   "source": []
  }
 ],
 "metadata": {
  "kernelspec": {
   "display_name": "Python 3 (ipykernel)",
   "language": "python",
   "name": "python3"
  },
  "language_info": {
   "codemirror_mode": {
    "name": "ipython",
    "version": 3
   },
   "file_extension": ".py",
   "mimetype": "text/x-python",
   "name": "python",
   "nbconvert_exporter": "python",
   "pygments_lexer": "ipython3",
   "version": "3.9.7"
  }
 },
 "nbformat": 4,
 "nbformat_minor": 2
}
