{
 "cells": [
  {
   "cell_type": "markdown",
   "metadata": {},
   "source": [
    "## 2.2:   Repetitive Tasks with `for` loops"
   ]
  },
  {
   "cell_type": "markdown",
   "metadata": {},
   "source": [
    "### 2.2.1 `for` loops\n",
    "\n",
    "In the code below, the variable `name` is assigned the 0<sup>th</sup> element of the list, \"jedi\", and the indented code is executed accordingly.  Then the loop repeats with `name` assigned to the 1<sup>th</sup> element, and so on until all of the elements of list \"jedi\" have been assigned in sequence.\n",
    "\n",
    "<ul>\n",
    "    <li>Note the colon (\":\") at the end of the statement that begins with \"for\"</li>\n",
    "    <li>The four-space indentation after the initial \"for\" statement is <u>not</u> optional.</li>\n",
    "    <li>Python uses indentation to identify a block of code, like the statements after the \"for\" statement, that are inside the loop</li>\n",
    "    <li>In many IDEs (like Spyder) the four-space indentation is applied automatically when you tap &lt;Enter&gt; after typing the \"for\" statement.</li>\n",
    "</ul>\n",
    "\n",
    "Without the `for` loop we would need to repeat the print statements four times each.  And then what if we added a fifth jedi, or more?  Add yourself to the list and observe that the loop works as expected."
   ]
  },
  {
   "cell_type": "code",
   "execution_count": null,
   "metadata": {},
   "outputs": [],
   "source": [
    "jedi = [\"Obi-Wan\", \"Luke\", \"Rey\", \"Yoda\"]\n",
    "\n",
    "for name in jedi:\n",
    "    print(name, \"is a Jedi.\")   # note the indentation of four spaces!\n",
    "    print(name, \"is awesome!\")  # the indentation continues.  Rerun without this line indented to see the difference."
   ]
  },
  {
   "cell_type": "markdown",
   "metadata": {},
   "source": [
    "We will often need to loop over things we count.  The `range` function is used to iterate over a sequence of integers."
   ]
  },
  {
   "cell_type": "code",
   "execution_count": null,
   "metadata": {},
   "outputs": [],
   "source": [
    "for i in range(0, 5):\n",
    "    print(i)           # Note that 0 is included, 5 excluded, just like array indexing\n",
    "\n",
    "print()                # not indented, so outside the loop above\n",
    "    \n",
    "for i in range(5):     # when starting at zero, the start can be omitted.\n",
    "    print(i)"
   ]
  },
  {
   "cell_type": "code",
   "execution_count": null,
   "metadata": {},
   "outputs": [],
   "source": [
    "for j in range(1, 13, 3):\n",
    "    print(j)       # What does the 3 do?"
   ]
  },
  {
   "cell_type": "code",
   "execution_count": null,
   "metadata": {},
   "outputs": [],
   "source": [
    "for k in range(-10, -100, -20):   # We can go backwards too\n",
    "    print(k)"
   ]
  },
  {
   "cell_type": "markdown",
   "metadata": {},
   "source": [
    "Notice that printing a `range` does not display a list, only the command to produce the list.  A benefit of using `range` is that it does not store all of the items at once.  Imagine if the list had a billion elements, when we only need one at a time.\n",
    "\n",
    "When debugging you can check what the `range` function gives using the `list` function."
   ]
  },
  {
   "cell_type": "code",
   "execution_count": null,
   "metadata": {},
   "outputs": [],
   "source": [
    "r = range(5)\n",
    "print(r)         # this shows that r is not a list; it is its own type of variable\n",
    "\n",
    "print(list(r))   # we can convert r to a list using the list function to verify that we start at zero"
   ]
  },
  {
   "cell_type": "markdown",
   "metadata": {},
   "source": [
    "Observe that we can loop over the elements of a list two ways:  by sequentially selecting the elements themselves, and by looping over the indices of the elements.  Using indices (Method 2, below) is more common for solving engineering problems."
   ]
  },
  {
   "cell_type": "code",
   "execution_count": null,
   "metadata": {},
   "outputs": [],
   "source": [
    "# Method 1:  looping over the elements\n",
    "import numpy as np\n",
    "v = np.array([1.0, 0.5, 0.25, 0.125, 0.0625])\n",
    "print(\"v = \", v)\n",
    "print()\n",
    "\n",
    "print(\"The elements are\")\n",
    "for x in v:\n",
    "    print(x)"
   ]
  },
  {
   "cell_type": "code",
   "execution_count": null,
   "metadata": {},
   "outputs": [],
   "source": [
    "# Method 2:  looping over the range of indices\n",
    "import numpy as np\n",
    "v = np.array([1.0, 0.5, 0.25, 0.125, 0.0625])\n",
    "n = len(v)\n",
    "print(\"v = \", v)\n",
    "print(\"of length\", n)\n",
    "print()\n",
    "\n",
    "print(\"The elements are\")\n",
    "for i in range(n):      # range(n) will give (0, 1, 2,... n-2, n-1) -- this conforms with Python indexing\n",
    "    print(\"v[\" + str(i) + \"] = \" + str(v[i]))"
   ]
  },
  {
   "cell_type": "markdown",
   "metadata": {},
   "source": [
    "### 2.2.2 Converting summations and repeated products into loops\n",
    "\n",
    "Whenever you see a summation or product sign, it's a good indication that you should probably use a loop.  For example, the mathematical notation to sum a sequence of integers from a to b is\n",
    "$$ \\large \\sum_{i=a}^{b} i $$\n",
    "The summation sign is asking for a loop.\n",
    "\n",
    "We start by specifying an appropriate range and checking that it does what we want.  We loop over the range with an integer index variable that we call \"i\".  Letters like i, j, k, l, m, and n are commonly used as integer index variable names."
   ]
  },
  {
   "cell_type": "code",
   "execution_count": null,
   "metadata": {},
   "outputs": [],
   "source": [
    "a = 1\n",
    "b = 5\n",
    "\n",
    "for i in range(a, b+1):    # loop from a up to but not including b+1 (so including b)\n",
    "    print(i)"
   ]
  },
  {
   "cell_type": "markdown",
   "metadata": {},
   "source": [
    "Now that we know our range statement works correctly, we write a formula inside the loop to sequentially add the integers in the range.  In the code below, variable \"sum\" is used as an accumulator variable that each number \"i\" is added into:  `sum += i`.  By indenting this statement under the `for ... :` statement Python knows to execute the statement for every value of \"i\" that it loops through.\n",
    "\n",
    "We can rewrite `sum += i` as `sum = sum + i`.  The latter syntax emphasizes that we need an initial value of \"sum\" to evaluate the right side of the assignment operator before we can assign it to the variable on the left side.  In summations the accumulator variable is typically set to zero prior to going into the loop.\n",
    "\n",
    "Note that because \"sum\" was initialized as a float (`sum = 0.0`), \"sum\" remains a float even as integers are added into it.  If you change the statement to initialize sum as `sum = 0` without the decimal point then sum will be of type integer and will print that way.\n",
    "\n",
    "Since the sum of integers from 1 to n is known to be n(n-1)/2 we can further verify our code by comparing our result with this known result."
   ]
  },
  {
   "cell_type": "code",
   "execution_count": null,
   "metadata": {},
   "outputs": [],
   "source": [
    "a = 1\n",
    "b = 5\n",
    "\n",
    "sum = 0.0                            # initialize the accumulator variable to zero\n",
    "print(\"pre-loop sum = \", sum)\n",
    "for i in range(a, b+1):\n",
    "    sum += i                         # note the compound operator; this could also be written sum = sum + i\n",
    "    print(\"loop\", i, \"sum = \", sum)  # indented, so still inside the loop\n",
    "print()                              # not indented so outside the loop and not executed until the loop is done\n",
    "\n",
    "check = b*(b+1)/2 - (a-1)*a/2        # note that the division operator will convert this to a float\n",
    "print(\"Does this agree with the result from the integer summation formula:\", check)"
   ]
  },
  {
   "cell_type": "markdown",
   "metadata": {},
   "source": [
    "In practice we should try more test cases (especially cases where \"a\" is not equal to 1).  For this simple example, however, we now have confidence that the code works correctly and so we remove the test statements and print the result."
   ]
  },
  {
   "cell_type": "code",
   "execution_count": null,
   "metadata": {},
   "outputs": [],
   "source": [
    "a = 1\n",
    "b = 5\n",
    "\n",
    "sum = 0                   # initialize the accumulator variable to zero\n",
    "for i in range(a, b+1):\n",
    "    sum += i\n",
    "print(\"The integer sum from\", a, \"to\", b, \"is\", sum)"
   ]
  },
  {
   "cell_type": "markdown",
   "metadata": {},
   "source": [
    "As another example consider computing an integer factorial:\n",
    "$$ n! \\ = \\  \\prod_{j=1}^{n} j $$\n",
    "The product sign is asking for a loop.  A key difference versus summation is that the product accumulator, \"prod\", must be initialized to one (not zero).\n",
    "\n",
    "Test the code with various values of n:  100, 1, 0.  Note that when n is less than 2 the loop doesn't do anything.  When n = 1, range(2, 2) means all integers from 2 up to but not including 2, and so no integers.  With the range list empty i is not set to anything and the indented line is not executed.  Because \"prod\" was initialized to 1 this code gives the correct answers 1! = 1 and 0! = 1.  However, if the user inputs a negative number for n the code also returns 1 even though the factorial is not defined for negative numbers.  Non-integer values of n at least result in an error."
   ]
  },
  {
   "cell_type": "code",
   "execution_count": null,
   "metadata": {},
   "outputs": [],
   "source": [
    "n = 4\n",
    "\n",
    "prod = 1                  # initialize the accumulator variable to one\n",
    "for i in range(2, n+1):   # note that we don't need to include multiplying by 1\n",
    "    prod *= i             # note the *= compound operator; this could also be written sum = sum * i\n",
    "print(str(n) + \"! = \" + str(prod))  # use this syntax to print \"n\" and \"!\" next to each other"
   ]
  },
  {
   "cell_type": "markdown",
   "metadata": {},
   "source": [
    "As a final example, consider the dot product of two vectors, each of size m:\n",
    "$$ u \\cdot v \\ = \\  \\sum_{k=1}^{m} u_i \\: v_i \\  = \\  u_1 v_1 \\; + \\; u_2 v_2 \\; + \\; \\dots \\; + \\; u_m v_m $$\n",
    "To handle any size vector we use the `.size` attribute of the vector to determine its length.  We could also use the `.shape[0]` attribute which is the number of elements along the 0th axis.\n",
    "\n",
    "The `.shape[0]` attribute is sometimes preferred because it also gives the expected result for matrices (the number of rows, .shape&#91;0&#93;, and columns, .shape&#91;1&#93;, whereas .size is not useful for indexing matrices.\n",
    "\n",
    "The length of a vector u is u.size, which gives the number of elements in u.  Because Python starts counting from zero, the range from 0 to u.size is correct.  For example, vector u = &#91;1., 2., 3.&#93; has three elements so u.size = 3.  The indices for these elements are 0, 1, and 2 so range(0, u.size) = range(0, 3) correctly gives the integers from 0 up to but not including 3.\n",
    "\n",
    "Note that no error checking is performed.  If the size of u and v are different the code won't know.  In a later lesson we will take up error checking and code testing as a major topic of study."
   ]
  },
  {
   "cell_type": "code",
   "execution_count": null,
   "metadata": {},
   "outputs": [],
   "source": [
    "import numpy as np\n",
    "u = np.array([ 1., 2., 3.])\n",
    "v = np.array([-1., 0., 2.])\n",
    "\n",
    "dotprod = 0.0\n",
    "for k in range(u.size):     # start index of 0 in range is implicit\n",
    "    dotprod += u[k] * v[k]\n",
    "print(\"The dot product is\", dotprod)"
   ]
  },
  {
   "cell_type": "code",
   "execution_count": null,
   "metadata": {},
   "outputs": [],
   "source": []
  }
 ],
 "metadata": {
  "kernelspec": {
   "display_name": "Python 3",
   "language": "python",
   "name": "python3"
  },
  "language_info": {
   "codemirror_mode": {
    "name": "ipython",
    "version": 3
   },
   "file_extension": ".py",
   "mimetype": "text/x-python",
   "name": "python",
   "nbconvert_exporter": "python",
   "pygments_lexer": "ipython3",
   "version": "3.8.5"
  }
 },
 "nbformat": 4,
 "nbformat_minor": 2
}
