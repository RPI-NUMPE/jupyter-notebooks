{
 "cells": [
  {
   "cell_type": "markdown",
   "metadata": {},
   "source": [
    "## 11.1:   <b><span style=\"color:green\">enumerate<span style=\"color:black\"></b> and <b><span style=\"color:green\">zip<span style=\"color:black\"></b> and list comprehensions, oh my"
   ]
  },
  {
   "cell_type": "markdown",
   "metadata": {},
   "source": [
    "### 11.1.1  enumerate()\n",
    "\n",
    "Recall from Jupyter Notebook Topic 2.2 that we can loop over the elements of a list two ways:  by sequentially selecting the elements themselves, and by looping over the indices of the elements.  Using indices (Method 2, below) is more common for solving engineering problems."
   ]
  },
  {
   "cell_type": "code",
   "execution_count": null,
   "metadata": {},
   "outputs": [],
   "source": [
    "# Method 1:  looping over the elements\n",
    "import numpy as np\n",
    "v = np.array([1.0, 0.5, 0.25, 0.125, 0.0625])\n",
    "print(\"v = \", v)\n",
    "print()\n",
    "\n",
    "print(\"The elements are\")\n",
    "for x in v:\n",
    "    print(x)"
   ]
  },
  {
   "cell_type": "code",
   "execution_count": null,
   "metadata": {},
   "outputs": [],
   "source": [
    "# Method 2:  looping over the range of indices\n",
    "import numpy as np\n",
    "v = np.array([1.0, 0.5, 0.25, 0.125, 0.0625])\n",
    "n = v.size\n",
    "print(\"v = \", v)\n",
    "print(\"of length\", n)\n",
    "print()\n",
    "\n",
    "print(\"The elements are\")\n",
    "for i in range(n):      # range(n) will give (0, 1, 2,... n-2, n-1) -- this conforms with Python indexing\n",
    "    print(\"v[\" + str(i) + \"] = \" + str(v[i]))"
   ]
  },
  {
   "cell_type": "markdown",
   "metadata": {},
   "source": [
    "The <b><span style=\"color:green\">enumerate()<span style=\"color:black\"></b> function allows us to loop over both the elements and their indices in a list/array"
   ]
  },
  {
   "cell_type": "code",
   "execution_count": null,
   "metadata": {},
   "outputs": [],
   "source": [
    "# Like Method 1, but with an index like Method 2\n",
    "import numpy as np\n",
    "v = np.array([1.0, 0.5, 0.25, 0.125, 0.0625])\n",
    "print(\"v = \", v)\n",
    "print()\n",
    "\n",
    "print(\"The elements are\")\n",
    "for i, x in enumerate(v):\n",
    "    print(\"v[\" + str(i) + \"] = \" + str(x))  # note x is used directly, not v[i]"
   ]
  },
  {
   "cell_type": "markdown",
   "metadata": {},
   "source": [
    "Notice that <b><span style=\"color:green\">enumerate()<span style=\"color:black\"></b> returns two list variables:  the index  (which starts counting from 0, as usual for Python) and the elements in those index positions.\n",
    "\n",
    "<b><span style=\"color:green\">enumerate()<span style=\"color:black\"></b> allows one to have the advantages of the above \"Method 1:  looping over the elements\" when thinking about lists of unknown or variable length, while still getting an index to work with as in Method 2."
   ]
  },
  {
   "cell_type": "code",
   "execution_count": null,
   "metadata": {},
   "outputs": [],
   "source": [
    "vec = np.linspace(1, 10, 10)\n",
    "\n",
    "for i, x in enumerate(vec):\n",
    "    print(x, \"**\", i, \"=\", x**i)"
   ]
  },
  {
   "cell_type": "markdown",
   "metadata": {},
   "source": [
    "### 11.1.2  zip()\n",
    "\n",
    "The <b><span style=\"color:green\">zip()<span style=\"color:black\"></b> function is useful when you want to loop over two or more arrays at the same time"
   ]
  },
  {
   "cell_type": "code",
   "execution_count": null,
   "metadata": {},
   "outputs": [],
   "source": [
    "import numpy as np\n",
    "\n",
    "# define a set of Reynolds numbers\n",
    "Reynolds = np.array([100, 1000, 10000])\n",
    "\n",
    "# define a set of Mach numbers\n",
    "Mach = np.array([0.1, 1.0, 10.0])\n",
    "\n",
    "for Re, Ma in zip(Reynolds, Mach):\n",
    "    print(\"Reynolds and Mach: \", Re, \"and\", Ma)"
   ]
  },
  {
   "cell_type": "code",
   "execution_count": null,
   "metadata": {},
   "outputs": [],
   "source": [
    "truss   = np.array([\"Common\", \"Gable\", \"Flat Lattice\"])\n",
    "joints  = np.array([ 7      ,  12    ,   8           ])\n",
    "members = np.array([ 11     ,  17    ,  15           ])\n",
    "\n",
    "for name, j, m in zip(truss, joints, members):\n",
    "    if (2*j-3 == m):\n",
    "        print(\"The\", name, \"2D roof truss with three support reaction forces is statically determinate\")\n",
    "    elif (2*j-3 < m):\n",
    "        print(\"The\", name, \"2D roof truss with three support reaction forces is stable\")\n",
    "    else:\n",
    "        print(\"The\", name, \"2D roof truss with three support reaction forces is unstable\")\n"
   ]
  },
  {
   "cell_type": "markdown",
   "metadata": {},
   "source": [
    "### 11.1.3  List Comprehensions\n",
    "\n",
    "List comprehensions are used to create lists, usually from other lists or sequences.\n",
    "\n",
    "Suppose we want to evaluate the natural logarithm of a set of numbers.  Here is how we might do it using a for loop."
   ]
  },
  {
   "cell_type": "code",
   "execution_count": null,
   "metadata": {},
   "outputs": [],
   "source": [
    "import numpy as np\n",
    "import math\n",
    "\n",
    "x = np.random.rand(5)       # get five random numbers in the interval [0, 1) (these change every run -- try it)\n",
    "y = np.zeros_like(x)        # initialize y as \"like\" x (same shape, but full of zeros)\n",
    "\n",
    "for i, val in enumerate(x):\n",
    "    y[i] = math.log(val)    # set each element of y to the natural log of the corresponding random number in x\n",
    "\n",
    "print(\"y =\", y)"
   ]
  },
  {
   "cell_type": "markdown",
   "metadata": {},
   "source": [
    "Or we could do this with a list comprehension:"
   ]
  },
  {
   "cell_type": "code",
   "execution_count": null,
   "metadata": {},
   "outputs": [],
   "source": [
    "import numpy as np\n",
    "import math\n",
    "\n",
    "x = np.random.rand(5)       # get five random numbers in the interval [0, 1) (these change every run -- try it)\n",
    "\n",
    "y = [math.log(val) for val in x]   # NOTE:  a list, not a np.array!\n",
    "z = np.array(y)                    # z is an np.array\n",
    "\n",
    "print(\"list y = \", y)\n",
    "print()\n",
    "print(\"ndarray z = \", z)"
   ]
  },
  {
   "cell_type": "markdown",
   "metadata": {},
   "source": [
    "You can include an if clause in a list comprehension.\n",
    "\n",
    "Suppose you want to evaluate the natural logarithm of a set of numbers, some of which are negative.\n",
    "\n",
    "Rerun the cell and notice the length of y each time."
   ]
  },
  {
   "cell_type": "code",
   "execution_count": null,
   "metadata": {},
   "outputs": [],
   "source": [
    "import numpy as np\n",
    "import math\n",
    "\n",
    "# np.random.randn() -- standard normal random numbers -- may produce negative numbers\n",
    "x = np.random.randn(5)\n",
    "y = [math.log(val) for val in x if val > 0.0]  # use only positive standard normals\n",
    "z = np.array(y)                                # z is an np.array\n",
    "\n",
    "nx = x.size\n",
    "nz = z.size\n",
    "print(\"random number array = \", x)\n",
    "print(\"with\", nx, \"elements.\")\n",
    "print()\n",
    "print(\"log of positive elements = \", z)\n",
    "print(\"with\", nz, \"elements.\")"
   ]
  },
  {
   "cell_type": "markdown",
   "metadata": {},
   "source": [
    "You can also include additional for clauses in a list comprehension."
   ]
  },
  {
   "cell_type": "code",
   "execution_count": null,
   "metadata": {},
   "outputs": [],
   "source": [
    "import numpy as np\n",
    "\n",
    "# define a set of Reynolds numbers\n",
    "Reynolds = np.array([100, 1000, 10000])\n",
    "\n",
    "# define a set of Mach numbers\n",
    "Mach = np.array([0.1, 1.0, 10.0])\n",
    "\n",
    "pairs = [(Re, Ma) for Re in Reynolds for Ma in Mach]  # Re outer loop; Ma inner loop\n",
    "print(pairs)\n",
    "print()\n",
    "\n",
    "# Compare pairs with what was obtained earlier using zip.  Be sure you can explain why are they different.\n",
    "for Re, Ma in zip(Reynolds, Mach):\n",
    "    print(\"Reynolds and Mach: \", Re, \"and\", Ma)"
   ]
  },
  {
   "cell_type": "markdown",
   "metadata": {},
   "source": [
    "The for loops and if statements in a list comprehension follow the same order as an equivalent nested for loop.\n",
    "\n",
    "Here is a more complex version of the previous example:"
   ]
  },
  {
   "cell_type": "code",
   "execution_count": null,
   "metadata": {},
   "outputs": [],
   "source": [
    "pairs = [(Re, Ma) for Re in Reynolds for Ma in Mach if Re >= 200]\n",
    "\n",
    "print(pairs)"
   ]
  },
  {
   "cell_type": "markdown",
   "metadata": {},
   "source": [
    "The above list comprehension is equivalent to the following nested loop:"
   ]
  },
  {
   "cell_type": "code",
   "execution_count": null,
   "metadata": {},
   "outputs": [],
   "source": [
    "pairs = []           # empty list\n",
    "for Re in Reynolds:\n",
    "    for Ma in Mach:\n",
    "        if Re >= 200:\n",
    "            pairs.append((Re,Ma))\n",
    "\n",
    "print(pairs)"
   ]
  },
  {
   "cell_type": "markdown",
   "metadata": {},
   "source": [
    "You have to judge the audiences for your code to decide how to balance the brevity of a complex statement with the procedural clarity of nested loops."
   ]
  },
  {
   "cell_type": "markdown",
   "metadata": {},
   "source": [
    "Finally, you can also create nested list comprehensions.\n",
    "\n",
    "The first part after the bracket \"&#91;\" in a list comprehension can be any arbitrary expression, including another list comprehension.\n",
    "\n",
    "In the example below, we transpose a NumPy array."
   ]
  },
  {
   "cell_type": "code",
   "execution_count": null,
   "metadata": {},
   "outputs": [],
   "source": [
    "import numpy as np\n",
    "\n",
    "A = np.array([[1, 2, 3], [4, 5, 6]])\n",
    "print(\"A =\")\n",
    "print(A)\n",
    "print()\n",
    "\n",
    "B = np.array( [ [row[i] for row in A] for i in range(A.shape[1]) ] )\n",
    "\n",
    "print(\"B =\")\n",
    "print(B)"
   ]
  },
  {
   "cell_type": "markdown",
   "metadata": {},
   "source": [
    "The above creation of B as the transpose of A is equivalent to the following:"
   ]
  },
  {
   "cell_type": "code",
   "execution_count": null,
   "metadata": {},
   "outputs": [],
   "source": [
    "import numpy as np\n",
    "A = np.array([[1, 2, 3], [4, 5, 6]])\n",
    "print(\"A =\")\n",
    "print(A)\n",
    "print()\n",
    "\n",
    "B = np.zeros((A.shape[1], A.shape[0]))  # note transpose of rows and columns; note B is now an ndarray\n",
    "for i in range(A.shape[1]):\n",
    "    for j, row in enumerate(A):\n",
    "        B[i,j] = row[i]\n",
    "\n",
    "print(\"B =\")\n",
    "print(B)                                # recall that np.zeros by default expresses all of the zeros as floats"
   ]
  },
  {
   "cell_type": "markdown",
   "metadata": {},
   "source": [
    "While list comprehensions are concise, avoid them when the resulting code is difficult to read.\n",
    "\n",
    "Some (not hard and fast) rules:\n",
    "<ol>\n",
    "   <li>Use list comprehensions when you need to create a new list/array from an existing one;</li>\n",
    "   <li>Provided the list comprehension is reasonably easy to read.</li>\n",
    "</ol>\n",
    "\n",
    "Make your list comprehensions easy to comprehend. If you cannot, use a loop."
   ]
  },
  {
   "cell_type": "code",
   "execution_count": null,
   "metadata": {},
   "outputs": [],
   "source": []
  }
 ],
 "metadata": {
  "kernelspec": {
   "display_name": "Python 3",
   "language": "python",
   "name": "python3"
  },
  "language_info": {
   "codemirror_mode": {
    "name": "ipython",
    "version": 3
   },
   "file_extension": ".py",
   "mimetype": "text/x-python",
   "name": "python",
   "nbconvert_exporter": "python",
   "pygments_lexer": "ipython3",
   "version": "3.8.5"
  }
 },
 "nbformat": 4,
 "nbformat_minor": 2
}
