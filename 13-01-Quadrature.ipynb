{
 "cells": [
  {
   "cell_type": "markdown",
   "metadata": {},
   "source": [
    "## 13.1:  quadrature with a single rectangle"
   ]
  },
  {
   "cell_type": "markdown",
   "metadata": {},
   "source": [
    "The following code allows you to set `choose_function` to display a function and the approximation to its integral using a single rectangle."
   ]
  },
  {
   "cell_type": "code",
   "execution_count": null,
   "metadata": {},
   "outputs": [],
   "source": [
    "\"\"\"Estimate the integral of a function\"\"\"\n",
    "\n",
    "import numpy as np\n",
    "import matplotlib.pyplot as plt\n",
    "\n",
    "# `False` only plots the function;\n",
    "# `True` shows the midpoint and integral\n",
    "show_integral = True\n",
    "\n",
    "# choose a function to observe midpoint integral\n",
    "\n",
    "choose_function = 1\n",
    "\n",
    "if (choose_function == 1):\n",
    "    def func(x):\n",
    "        \"\"\"exponential\"\"\"\n",
    "        from numpy import exp\n",
    "        y = exp(x)\n",
    "        return y\n",
    "elif (choose_function == 2):\n",
    "    def func(x):\n",
    "        \"\"\"parabola\"\"\"\n",
    "        y = x**2\n",
    "        return y\n",
    "elif (choose_function == 3):\n",
    "    def func(x):\n",
    "        \"\"\"cos(2*pi*x) -- ugh!\"\"\"\n",
    "        from numpy import cos\n",
    "        y = cos(6.28*x)\n",
    "        return y\n",
    "else:\n",
    "    def func(x):\n",
    "        \"\"\"linear\"\"\"\n",
    "        from numpy import exp\n",
    "        y = x\n",
    "        return y\n",
    "\n",
    "\n",
    "# interval to integrate over\n",
    "x_lo = 0.0\n",
    "x_hi = 1.0\n",
    "\n",
    "# arrays to display the function\n",
    "npts = 50\n",
    "x = np.linspace(x_lo, x_hi, npts)\n",
    "y = func(x)\n",
    "\n",
    "# bound the function\n",
    "y_lo = np.min(y)\n",
    "y_hi = np.max(y)\n",
    "\n",
    "# but make sure the y = 0 axis is shown\n",
    "if (y_lo > 0.0):\n",
    "    y_lo = 0.0\n",
    "if (y_hi < 0.0):\n",
    "    y_hi = 0.0\n",
    "\n",
    "plt.figure(1, figsize=(6, 4))\n",
    "plt.plot(x, y, 'k-', label=func.__doc__)\n",
    "\n",
    "if (show_integral):\n",
    "    base = (x_hi - x_lo)\n",
    "    midpoint = x_lo + base/2.0\n",
    "    height = func(midpoint)\n",
    "    rectangle = base * height\n",
    "    label_string = \"integral = \" + '{:.2f}'.format(rectangle)\n",
    "    plt.plot([x_lo, x_hi], [height, height], 'r-', label=label_string)\n",
    "    plt.plot([midpoint, midpoint], [y_lo, height], 'b--')\n",
    "\n",
    "plt.axis([x_lo, x_hi, y_lo, y_hi])\n",
    "plt.xlabel('x', fontsize=14)\n",
    "plt.ylabel('y = f(x)', fontsize=14)\n",
    "plt.legend(fontsize=10, loc=4)\n",
    "title_string  = \"Integrate the function over the interval\\n\"\n",
    "title_string += \"[\"  + '{:.1f}'.format(x_lo)\n",
    "title_string += \", \" + '{:.1f}'.format(x_hi) + \"]\"\n",
    "plt.title(title_string)\n",
    "plt.show\n"
   ]
  },
  {
   "cell_type": "code",
   "execution_count": null,
   "metadata": {},
   "outputs": [],
   "source": []
  }
 ],
 "metadata": {
  "kernelspec": {
   "display_name": "Python 3",
   "language": "python",
   "name": "python3"
  },
  "language_info": {
   "codemirror_mode": {
    "name": "ipython",
    "version": 3
   },
   "file_extension": ".py",
   "mimetype": "text/x-python",
   "name": "python",
   "nbconvert_exporter": "python",
   "pygments_lexer": "ipython3",
   "version": "3.8.5"
  }
 },
 "nbformat": 4,
 "nbformat_minor": 2
}
