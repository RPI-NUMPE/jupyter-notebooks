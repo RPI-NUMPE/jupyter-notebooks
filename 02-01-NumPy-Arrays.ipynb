{
 "cells": [
  {
   "cell_type": "markdown",
   "metadata": {},
   "source": [
    "## 2.1:   NumPy Arrays"
   ]
  },
  {
   "cell_type": "markdown",
   "metadata": {},
   "source": [
    "### 2.1.1  one-dimensional NumPy arrays (vectors)\n",
    "\n",
    "Python lists are useful for manipulating lists of information, especially lists of strings and lists of mixed types.  But Python was not originally developed with numerical analysis in mind, so vector and matrix arithmetic was problematic.  As engineers and scientists became increasingly interested in Python various numerical analysis libraries were developed for Python in the mid 1990s.  Eventually they gained the support of Python's inventor who initiated Python Version 3.0 in part to augment Python to make array computing more accessible and efficient.  The \"NumPy\" organization consolidated many of those efforts in 2005 and continues to further develop their NumPy library to this day.\n",
    "\n",
    "The NumPy library is widely used and relies on the exhaustively researched and tested BLAS specifications and LAPACK libraries.  You are encouraged to read about BLAS and LAPACK online, though you will understand them more at the end of this class than at the beginning.  You may occasionally see messages for warnings or errors related to BLAS and LAPACK.  The warnings are usually gripes about how Python implements them on your particular CPU and can be ignored.  And trust us:  any errors are yours, not theirs."
   ]
  },
  {
   "cell_type": "markdown",
   "metadata": {},
   "source": [
    "To use the capabilities of NumPy, you must `import` it into your Python workspace:\n",
    "    \n",
    "`import numpy`\n",
    "    \n",
    "(Note that the NumPy library is imported as the all-lower-case numpy.)  Because \"numpy.\" preceeds every function that uses it, it is common practice to shorten it to \"np.\" by extending the import command:\n",
    "    \n",
    "`import numpy as np`\n",
    "\n",
    "This statement will often be the first line in code you write for this course (after lines of comments).\n",
    "\n",
    "A vector is created by using a Python list to fill a NumPy array, using `np.array()`.  \"np\" refers to the NumPy library.  \"array\" is a function in that library.  The list goes in the parenthesis as shown below."
   ]
  },
  {
   "cell_type": "code",
   "execution_count": null,
   "metadata": {},
   "outputs": [],
   "source": [
    "import numpy as np     # NOTE:  the first time you import numpy it may take a while to finish\n",
    "\n",
    "py_list  = [1, 2, 3]                # a list of integers\n",
    "print(py_list)                      # output as a comma separated list in square brackets\n",
    "\n",
    "np_array = np.array(py_list)        # the same list as a numpy array\n",
    "print(np_array)                     # output as blank-space separated list in square brackets\n",
    "\n",
    "np_array = np.array([4, 5.789, 6])  # a python list is used directly in the np.array function\n",
    "print(np_array)                     # note that the ints were promoted to floats and the displayed widths adjusted"
   ]
  },
  {
   "cell_type": "markdown",
   "metadata": {},
   "source": [
    "The dimensions of the array &mdash; the number of axes of values &mdash; is very important for you to keep track of.  A vector is a one-dimensional array.  It's elements are accessed in the same way as for the elements of a list:  using square brackets around an integer index starting from zero.  You can also access a slice of a vector, which results in another vector.  You can also access elements from the end of the vector backwards by using negative integers as indices."
   ]
  },
  {
   "cell_type": "code",
   "execution_count": null,
   "metadata": {},
   "outputs": [],
   "source": [
    "import numpy as np\n",
    "\n",
    "vector = np.array([1., 2., 3., 4.])\n",
    "print(\"The vector is\", vector)\n",
    "\n",
    "print()\n",
    "print(\"   The first element: \", vector[0])   # the zero-th element (Python indexing) is the first element (human indexing)\n",
    "print(\"    the middle slice: \", vector[1:3]) # the 1-th and 2-th elements -- up to but not including the 3-th element\n",
    "print(\"and the last element: \", vector[-1])  # the 3-th element"
   ]
  },
  {
   "cell_type": "markdown",
   "metadata": {},
   "source": [
    "The type of items must be consistent in NumPy arrays.  If all items in the list are integers, an integer array is created.  If even one item is instead a float but none are strings, then all of the elements of the array are floats.  If even one item is instead a string, then all of the elements of the array are strings."
   ]
  },
  {
   "cell_type": "code",
   "execution_count": null,
   "metadata": {},
   "outputs": [],
   "source": [
    "import numpy as np\n",
    "\n",
    "py_list_1 = [1  , 2  , 3  ]\n",
    "py_list_2 = [1  , 2  , 3.0]\n",
    "py_list_3 = [1.0, 2.0, 3.0]\n",
    "py_list_4 = [1.0, 2.0, 'c']\n",
    "py_list_5 = [1  , 2.0, 'c']\n",
    "\n",
    "x1 = np.array(py_list_1)\n",
    "x2 = np.array(py_list_2)\n",
    "x3 = np.array(py_list_3)\n",
    "x4 = np.array(py_list_4)\n",
    "x5 = np.array(py_list_5)\n",
    "\n",
    "print(x1, x2, x3, x4, x5)"
   ]
  },
  {
   "cell_type": "markdown",
   "metadata": {},
   "source": [
    "The elements of a Python list can be of any type, and that type can change.\n",
    "\n",
    "Once created, the type of a NumPy array is fixed.  Assigning an element of a different type to a NumPy array can cause problems.<br />\n",
    "&nbsp; &nbsp; &nbsp; &ndash; assigning a string to an integer or float array will result in an error.<br />\n",
    "&nbsp; &nbsp; &nbsp; &ndash; assigning an integer to a float array will promote the integer to a float.<br />\n",
    "&nbsp; &nbsp; &nbsp; &ndash; assigning a float to an integer array will truncate the float to an integer<br />\n",
    "&nbsp; &nbsp; &nbsp; &nbsp; &nbsp; &nbsp; (<b>which may be hard to spot if that's not your intended behavior, so take care!</b>).\n",
    "\n",
    "<b><em>It is recommended that you get into the habit of including a decimal point in every number that you do not explicitly want to be an integer.  Write \"1.\" instead of \"1\", just to make sure that Python is computing with floats where you need it to.</em><b>"
   ]
  },
  {
   "cell_type": "code",
   "execution_count": null,
   "metadata": {},
   "outputs": [],
   "source": [
    "import numpy as np\n",
    "\n",
    "x_list = [1, 2, 3]             # create a standard list\n",
    "print(\"Python list =\", x_list)\n",
    "x_list[0] = 5.678              # first element is now float\n",
    "print(\"Python list =\", x_list)\n",
    "x_list[1:3] = [\"two\", \"three\"] # second and third elements are now strings\n",
    "print(\"Python list =\", x_list)\n",
    "\n",
    "print()\n",
    "\n",
    "x_np = np.array([1, 2, 3])     # create a numpy ndarray of integers\n",
    "print(\"NumPy array =\", x_np)\n",
    "x_np[0] = 5.678                # truncates 5.678 to integer before assignment!\n",
    "print(\"NumPy array =\", x_np)\n"
   ]
  },
  {
   "cell_type": "code",
   "execution_count": null,
   "metadata": {},
   "outputs": [],
   "source": [
    "x_np = np.array([1, 2, 3])     # create a numpy ndarray of type integer\n",
    "print(\"NumPy array =\", x_np)\n",
    "x_np[1] = \"string\"             # this will not work!\n",
    "print(\"NumPy array =\", x_np)"
   ]
  },
  {
   "cell_type": "markdown",
   "metadata": {},
   "source": [
    "### 2.1.2  two-dimensional NumPy arrays (matrices)\n",
    "\n",
    "As we have seen, you can create a 1D NumPy array from a list.  A list of lists will get turned into a 2D array, which models a matrix.\n",
    "\n",
    "Note from what is printed in the code below that this is an array of arrays:  there are inner pairs of square brackets for each row, and an outer pair of square brackets that collects the row arrays into a column.\n",
    "\n",
    "Elements are indexed in &#91;row, column&#93; order, and slices by &#91;row range, column range&#93; (with an optional stride for the ranges, though the stride has few applications for arrays)."
   ]
  },
  {
   "cell_type": "code",
   "execution_count": null,
   "metadata": {},
   "outputs": [],
   "source": [
    "import numpy as np\n",
    "\n",
    "A = np.array( [ [11.0, 12.0, 13.0], [21.0, 22.0, 23.0], [31.0, 32.0, 33.0] ] )\n",
    "print(A)\n",
    "print(\"The 1,2 element is\", A[0,1])    # rember that Python starts indexing from 0\n",
    "print()\n",
    "\n",
    "print(\"A 2x2 slice printed as if on the same line (ugh!):\", A[1:3, 1:3])   # not pretty when printed this way!\n",
    "print()\n",
    "print(\"The same 2x2 slice printed on the next line:\")\n",
    "print(A[1:3, 1:3])                     # printed separately from the text so the rows of the matrix line up...\n",
    "print()\n",
    "\n",
    "list0 = [1., 2., 3., 4.]               # Python lists...\n",
    "list1 = [5., 6., 7., 8.]\n",
    "A2 = np.array( [list0, list1] )        # ...used to construct an array of arrays (matrix).  Note the comma between lists.\n",
    "print(\"This 2x4 matrix is\\n\", A2)      # Another way to display a matrix on a new line, but not quite as pretty\n",
    "print()\n",
    "\n",
    "I0 = np.array([1., 0.])\n",
    "I1 = np.array([0., 1.])\n",
    "I  = np.array( [I0, I1] )              # A NumPy array of NumPy arrays also works\n",
    "print(\"The 2x2 identity matrix is\")\n",
    "print(I)"
   ]
  },
  {
   "cell_type": "markdown",
   "metadata": {},
   "source": [
    "Another way to create a matrix that is visually appealing and easier to check is to use the backslash character, `\\`, which is the line-continuation character in Python.\n",
    "\n",
    "Do not try to put a comment after the continuation character; an error will result.\n"
   ]
  },
  {
   "cell_type": "code",
   "execution_count": null,
   "metadata": {},
   "outputs": [],
   "source": [
    "B = np.array( [ [  4.0, -2.0,  1.0],   \\\n",
    "                [ -2.0,  4.0, -2.0],   \\\n",
    "                [  1.0, -2.0,  4.0] ] )      # commment only at the end of the continued line\n",
    "print(\"Matrix B is\")\n",
    "print(B)"
   ]
  },
  {
   "cell_type": "markdown",
   "metadata": {},
   "source": [
    "There are numerous ways to create an array when you know its \"shape\" and want to initilaize its elements.\n",
    "\n",
    "For example, it is often useful to initialize an array to have all zero entries (using the `np.zeros` function), or all the same values (using the `np.ones` function).  The default element type for zeros and ones is float.\n",
    "\n",
    "You can create a square identity matrix using the `np.eye` function.   "
   ]
  },
  {
   "cell_type": "code",
   "execution_count": null,
   "metadata": {},
   "outputs": [],
   "source": [
    "A = np.zeros([3,2])   # this makes a 3x2 matrix of zeros\n",
    "print(A)\n",
    "print()\n",
    "\n",
    "A = np.ones([2,4])    # a 2x4 matrix of ones; you can use [] or () for the inner parentheses\n",
    "print(A)\n",
    "print()\n",
    "\n",
    "A = 5*np.ones((2,4))  # a 2x4 matrix of fives\n",
    "print(A)\n",
    "print()\n",
    "\n",
    "I = np.eye(3)         # a 3x3 identity matrix\n",
    "print(I)\n",
    "print()"
   ]
  },
  {
   "cell_type": "markdown",
   "metadata": {},
   "source": [
    "### 2.1.3   array attributes, array functions, and array slices\n",
    "\n",
    "You can access information about NumPy arrays by referencing attributes stored with the ndarray.  For example, `.ndim`, `.shape`, and `.size`"
   ]
  },
  {
   "cell_type": "code",
   "execution_count": null,
   "metadata": {},
   "outputs": [],
   "source": [
    "import numpy as np\n",
    "\n",
    "A = np.array( [ [11.0, 12.0, 13.0], [21.0, 22.0, 23.0], [31.0, 32.0, 33.0] ] )\n",
    "x = np.array(   [ 1.0,  2.0,  3.0] )\n",
    "print(A, x)\n",
    "\n",
    "print()\n",
    "print('   Matrices are two dimensional: ', A.ndim)  \n",
    "print('and vectors are one dimensional: ', x.ndim)\n",
    "\n",
    "print()\n",
    "print('The shape of matrix A is: ', A.shape)\n",
    "print('The shape of vector x is: ', x.shape)\n",
    "\n",
    "Arows = A.shape[0]\n",
    "Acols = A.shape[1]\n",
    "print()\n",
    "print('The matrix A is', Arows, 'x', Acols, 'and of size', A.size)\n",
    "print('The vector x has', x.shape[0], 'elements, and is of size', x.size)"
   ]
  },
  {
   "cell_type": "markdown",
   "metadata": {},
   "source": [
    "You can manipulate arrays using methods such as `.T` and `.fill` (and others we will encounter as we need them)."
   ]
  },
  {
   "cell_type": "code",
   "execution_count": null,
   "metadata": {},
   "outputs": [],
   "source": [
    "import numpy as np\n",
    "\n",
    "A = np.array( [ [11.0, 12.0, 13.0], [21.0, 22.0, 23.0], [31.0, 32.0, 33.0] ] )\n",
    "print(A)\n",
    "\n",
    "print()\n",
    "print('The transpose is')\n",
    "print(A.T)\n",
    "print()\n",
    "\n",
    "x = np.array(   [ 1.0,  2.0,  3.0] )\n",
    "print(\"vector\" + str(x))              # note that the string version of a vector gives what you would expect\n",
    "print()\n",
    "\n",
    "number = -1.0\n",
    "x.fill(number)\n",
    "print(\"vector filled with \" + str(number) + \":  \" + str(x))"
   ]
  },
  {
   "cell_type": "markdown",
   "metadata": {},
   "source": [
    "NumPy arrays can be indexed and sliced in much the same way as standard Python lists."
   ]
  },
  {
   "cell_type": "code",
   "execution_count": null,
   "metadata": {},
   "outputs": [],
   "source": [
    "u = np.array([0., 1., 2., 3., 4., 5., 6., 7., 8., 9., 10.])   # 11 numbers between 0, 10\n",
    "print(u)\n",
    "print()\n",
    "\n",
    "print(u[0])       # the 0-th element\n",
    "print()\n",
    "\n",
    "print(u[2:4])     # remember:  from `start` up to but not including `stop`\n",
    "print()\n",
    "\n",
    "print(u[-5: :2])  # negative indices are counted backward from the right\n",
    "                  # the stop is implicitly just past the end of the array\n",
    "                  # the stride is 2"
   ]
  },
  {
   "cell_type": "code",
   "execution_count": null,
   "metadata": {},
   "outputs": [],
   "source": [
    "u = np.array([0., 1., 2., 3., 4., 5., 6., 7., 8., 9., 10.])   # 11 numbers between 0, 10\n",
    "print(u)\n",
    "u[:5:2] = 0       # what does this do?\n",
    "print(u)"
   ]
  },
  {
   "cell_type": "markdown",
   "metadata": {},
   "source": [
    "  Note that 2-dimensional arrays have two indices:  row &times; column (always in that order:  RC)."
   ]
  },
  {
   "cell_type": "code",
   "execution_count": null,
   "metadata": {},
   "outputs": [],
   "source": [
    "A = np.array([ [1, 2, 3], [4, 5, 6] ])\n",
    "print(A)\n",
    "print()\n",
    "\n",
    "print(\"the (0-th, 0-th) element (Python indexing):\" , A[0,0])\n",
    "print()\n",
    "\n",
    "print(A[0,:])     # the entire first row:  the 0-th row, all columns from implicit start to past implicit end\n",
    "print()\n",
    "\n",
    "A[:,1] = 0        # can you predict what this will do?\n",
    "print(A)\n",
    "print()\n",
    "\n",
    "A[0,:] = -9       # can you predict what this will do?\n",
    "print(A)"
   ]
  },
  {
   "cell_type": "markdown",
   "metadata": {},
   "source": [
    "### 2.1.4   a 1-dimensional vector versus a 2-dimensional \"vector\""
   ]
  },
  {
   "cell_type": "markdown",
   "metadata": {},
   "source": [
    "Note that vectors are printed as row vectors.  To emphasize this, look at the transpose of a vector:  it doesn't change.\n",
    "\n",
    "This is because what we've been calling a \"vector\" is just a one dimensional ndarray.  A two dimensional ndarray looks like a matrix when we print it, so why doesn't a vector look like a column vector when we print it?\n",
    "\n",
    "Because it doesn't matter.  (And it is usually easier to read as a row vector.)  All of the algorithms we create and use in this course will assume that we are using a one dimensional ndarray as a vector and they will all work.\n",
    "\n",
    "If instead we were to insist on making a column vector it would actually be a 2D ndarray with some number of rows and one column, as shown below.  But if you do this your code will be using 2D arrays when Submitty expects a 1D array and you'll be marked wrong.  So don't do this.  Always use a 1D ndarray for a vector."
   ]
  },
  {
   "cell_type": "code",
   "execution_count": null,
   "metadata": {},
   "outputs": [],
   "source": [
    "import numpy as np\n",
    "\n",
    "vector = np.array([1., 2., 3.])\n",
    "print('The \"vector\" is:                        ', vector)\n",
    "print()\n",
    "\n",
    "print('And the transpose of the \"vector\" is... ', vector.T)\n",
    "print(\"           which didn't change anything!\")\n",
    "print()\n",
    "\n",
    "col_vec = np.array([[1.], [2.], [3.]])\n",
    "print(\"This looks like a column vector:\")\n",
    "print(col_vec)\n",
    "print(\"...but it is not.  It is a 3x1 matrix:\")\n",
    "print()\n",
    "\n",
    "print('    col_vec is', col_vec.ndim, 'dimensional')\n",
    "print('    the shape of col_vec is: ', col_vec.shape)\n",
    "print('    col_vec is', col_vec.shape[0], 'rows x', col_vec.shape[1], 'column, and of size', col_vec.size)\n",
    "print()\n",
    "\n",
    "row_vec = col_vec.T\n",
    "print(\"The transpose of what looks like a column vector is \")\n",
    "print(row_vec)\n",
    "print(\"...but it is still a matrix, not a row vector:\")\n",
    "print()\n",
    "print('    row_vec is', row_vec.ndim, 'dimensional')\n",
    "print('    the shape of row_vec is: ', row_vec.shape)\n",
    "print('    row_vec is', row_vec.shape[0], 'row x', row_vec.shape[1], 'columns, and of size', row_vec.size)\n"
   ]
  },
  {
   "cell_type": "markdown",
   "metadata": {},
   "source": [
    "Again, for everything we will do in this course the 1D numpy arrays will be sufficient as representations of vectors."
   ]
  },
  {
   "cell_type": "markdown",
   "metadata": {},
   "source": [
    "### 2.1.5   copying lists and arrays\n",
    "\n",
    "You must carefully pay attention to observe the subtle point presented here.  It may cause you problems later when you least expect it.\n",
    "\n",
    "Most of the arrays we will use will be relatively small and neither computation time nor storage space will be of concern.  However, it is possible that an array could store billions of elements occupying gigabytes of memory.  To make a copy of such an array would take significant computing resources, so Python's memory model generally assumes that for a statement like new_array = old_array you don't really want a copy (a second distinct copy) of old_array, but only a reference to old_array with a new variable name.\n",
    "\n",
    "This often unexpected behavior is illustrated in the example below."
   ]
  },
  {
   "cell_type": "code",
   "execution_count": null,
   "metadata": {},
   "outputs": [],
   "source": [
    "x = np.array([1.0, 2.0, 3.0])\n",
    "print(\"x = \", x)\n",
    "u = x               # this is a new reference to x, called u\n",
    "print(\"u = \", u)    # u looks the same as x\n",
    "\n",
    "u[0] = 100.0        # now change an element of u\n",
    "print(\"u = \", u)    # yes, the 0th element of u has changed...\n",
    "\n",
    "print(\"x = \", x)    # what do you think this will give?\n"
   ]
  },
  {
   "cell_type": "markdown",
   "metadata": {},
   "source": [
    "Because the \"u = x\" assignment creates a reference instead of a copy, it is as if u is simply another name for x.  Perhaps x is a stand-alone vector at one point in the code, but later it is used as row u in a matrix of rows u, v, w so you decide to rename it u.  A reference will let you use variable names x and u interchangably and manipulate their contents jointly.\n",
    "\n",
    "If instead you want a distinct and independent copy of an array, you must use the copy method."
   ]
  },
  {
   "cell_type": "code",
   "execution_count": null,
   "metadata": {},
   "outputs": [],
   "source": [
    "x = np.array([1.0, 2.0, 3.0])\n",
    "print(\"x = \", x)\n",
    "u = x.copy()        # this is a copy; note the required empty parentheses after .copy()\n",
    "print(\"u = \", u)\n",
    "\n",
    "u[0] = 100.0        # now change an element of u\n",
    "print(\"u = \", u)    # yes, the 0th element of u has changed...\n",
    "\n",
    "print(\"x = \", x)    # ...while x remains unchanged."
   ]
  },
  {
   "cell_type": "markdown",
   "metadata": {},
   "source": [
    "### 2.1.6  arrays of equally spaced numbers (via linspace)\n",
    "\n",
    "You can get an ndarray of evenly spaced numbers using the `linspace` function."
   ]
  },
  {
   "cell_type": "code",
   "execution_count": null,
   "metadata": {},
   "outputs": [],
   "source": [
    "x = np.linspace(0, 1, 11)  # 11 numbers between 0 and 1, inclusive (hence 11)\n",
    "print(x)\n",
    "y = np.linspace(-1, 0, 11) # 11 numbers between -1 and 0\n",
    "print(y)"
   ]
  },
  {
   "cell_type": "markdown",
   "metadata": {},
   "source": [
    "Can you predict what the following will print?"
   ]
  },
  {
   "cell_type": "code",
   "execution_count": null,
   "metadata": {},
   "outputs": [],
   "source": [
    "z = np.linspace(0, -1, 11) # what changes here?\n",
    "print(z)"
   ]
  },
  {
   "cell_type": "code",
   "execution_count": null,
   "metadata": {},
   "outputs": [],
   "source": [
    "w = np.linspace(1, 2, 4)   # what will this give?\n",
    "print(w)"
   ]
  },
  {
   "cell_type": "code",
   "execution_count": null,
   "metadata": {},
   "outputs": [],
   "source": []
  }
 ],
 "metadata": {
  "kernelspec": {
   "display_name": "Python 3",
   "language": "python",
   "name": "python3"
  },
  "language_info": {
   "codemirror_mode": {
    "name": "ipython",
    "version": 3
   },
   "file_extension": ".py",
   "mimetype": "text/x-python",
   "name": "python",
   "nbconvert_exporter": "python",
   "pygments_lexer": "ipython3",
   "version": "3.8.5"
  }
 },
 "nbformat": 4,
 "nbformat_minor": 2
}
