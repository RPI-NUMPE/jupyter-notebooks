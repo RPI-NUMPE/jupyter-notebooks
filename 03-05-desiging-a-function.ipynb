{
 "cells": [
  {
   "cell_type": "markdown",
   "metadata": {},
   "source": [
    "## 3.5 designing a function\n",
    "\n",
    "This notebook reviews a bottom-up design process to create a Python function.  In this example, we want a function that will compute the roots for a sequence of quadratics where each quadratic is a row of a matrix and the three columns of the matrix are the three coefficients a, b, and c &ndash; as in ax&ast;&ast;2+bx+c = 0 &ndash; in that order.\n",
    "\n",
    "After writing our pseudocode, we don't just translate it all into code and hope it works.  Better to build it line by line and see what we get (using print statements) before we add another line.\n",
    "\n",
    "We start by writing a docstring to give us our objective in writing the function."
   ]
  },
  {
   "cell_type": "code",
   "execution_count": 1,
   "metadata": {},
   "outputs": [],
   "source": [
    "import numpy as np\n",
    "def func(coeff_matrix):\n",
    "    \"\"\"Compute roots for an array of quadratic coefficients.\n",
    "    \n",
    "       Each quadratic is a row of `coeff_matrix`.  The three columns of\n",
    "       `coeff_matrix` are the three coefficients a, b, and c corresponding\n",
    "       to ax**2+bx+c = 0 in that order.\"\"\"\n",
    "    return root1, root2"
   ]
  },
  {
   "cell_type": "markdown",
   "metadata": {},
   "source": [
    "That's it.  Start there.  Run it,... and get nothing, unless you have a syntax error.  (Did we forget the colon?  Do we have proper indentation?).\n",
    "\n",
    "The next step has three additions steps:\n",
    "<ul>\n",
    "    <li>make the function return something clearly wrong;</li>\n",
    "    <li>create some <u>short</u> but appropriate input data;</li>\n",
    "    <li>print everything to make sure it's what we expect.</li>\n",
    "    </ul>"
   ]
  },
  {
   "cell_type": "code",
   "execution_count": null,
   "metadata": {},
   "outputs": [],
   "source": [
    "import numpy as np\n",
    "def quadratic_roots(coeff_matrix):\n",
    "    \"\"\"Compute roots for an array of quadratic coefficents.\n",
    "    \n",
    "       Each quadratic is a row of `coeff_matrix`.  The three columns of\n",
    "       `coeff_matrix` are the three coefficients a, b, and c corresponding\n",
    "       to ax**2+bx+c = 0 in that order.\"\"\"\n",
    "    root1 = -888.888\n",
    "    root2 = -999.999\n",
    "    print(\"in function, root1, root2:\", root1, root2)\n",
    "    return root1, root2\n",
    "\n",
    "coeff_matrix = np.array([[1., -2., 1.],   \\\n",
    "                         [1., -3., 1.],   \\\n",
    "                         [1., -4., 1.] ])\n",
    "print(\"coeff_matrix =\")\n",
    "print(coeff_matrix)\n",
    "print()\n",
    "root1, root2 =  quadratic_roots(coeff_matrix)\n",
    "print(\"root1, root2 = \", root1, root2)"
   ]
  },
  {
   "cell_type": "markdown",
   "metadata": {},
   "source": [
    "The answer is wrong, of course, but at least we think we know what we're going for.  (This is not correct, as you may have already figured out, but let's stay with what we have and see where it goes.)\n",
    "\n",
    "What we do know is that our syntax is correct, our test matrix is as expected, and we're printing things.\n",
    "\n",
    "So now we add some code, a little at a time.  We start by creating the loop that will sequence through the rows of `coeff_matrix`.  Add print statements to verify <u>everything</u>, even the loop index to make sure we specified the start and stop for `range` correctly."
   ]
  },
  {
   "cell_type": "code",
   "execution_count": null,
   "metadata": {},
   "outputs": [],
   "source": [
    "import numpy as np\n",
    "def quadratic_roots(coeff_matrix):\n",
    "    \"\"\"Compute roots for an array of quadratic coefficents.\n",
    "    \n",
    "       Each quadratic is a row of `coeff_matrix`.  The three columns of\n",
    "       `coeff_matrix` are the three coefficients a, b, and c corresponding\n",
    "       to ax**2+bx+c = 0 in that order.\"\"\"\n",
    "    eqns = coeff_matrix.shape[0]                     # NEW\n",
    "    print(\"in function, eqns =\", eqns)               # NEW\n",
    "    for i in range(0, eqns):                         # NEW\n",
    "        print(\"  LOOP\", i)                           # NEW\n",
    "        root1 = -888.888                             # indented\n",
    "        root2 = -999.999                             # indented\n",
    "        print(\"    ** root1, root2:\", root1, root2)  # changed text\n",
    "    return root1, root2\n",
    "\n",
    "coeff_matrix = np.array([[1., -2., 1.],   \\\n",
    "                         [1., -3., 1.],   \\\n",
    "                         [1., -4., 1.] ])\n",
    "print(\"coeff_matrix =\")\n",
    "print(coeff_matrix)\n",
    "print()\n",
    "root1, root2 =  quadratic_roots(coeff_matrix)\n",
    "print(\"root 1, root 2 = \", root1, root2)"
   ]
  },
  {
   "cell_type": "markdown",
   "metadata": {},
   "source": [
    "If you didn't notice before, now we see that something is not right.  We calculate three sets of roots, but only the last set is returned to be printed outside the function.  We need to return an array of roots, not scalars.\n",
    "\n",
    "We add code to create the proper roots array, and set the roots to zero for now.  We remove the statements setting root1 and root2, and adjust the return statement and the print statement after the function call."
   ]
  },
  {
   "cell_type": "code",
   "execution_count": null,
   "metadata": {},
   "outputs": [],
   "source": [
    "import numpy as np\n",
    "def quadratic_roots(coeff_matrix):\n",
    "    \"\"\"Compute roots for an array of quadratic coefficents.\n",
    "    \n",
    "       Each quadratic is a row of `coeff_matrix`.  The three columns of\n",
    "       `coeff_matrix` are the three coefficients a, b, and c corresponding\n",
    "       to ax**2+bx+c = 0 in that order.\"\"\"\n",
    "    eqns = coeff_matrix.shape[0]\n",
    "    print(\"in function, eqns =\", eqns)\n",
    "    roots = np.zeros((eqns, 2))                             # NEW (notice required two sets of parentheses)\n",
    "    print(\"in function, roots is initialized to\\n\", roots)  # NEW\n",
    "    for i in range(0, eqns):\n",
    "        print(\"  LOOP\", i)\n",
    "    return roots                                            # CHANGED\n",
    "\n",
    "coeff_matrix = np.array([[1., -2., 1.],   \\\n",
    "                         [1., -3., 1.],   \\\n",
    "                         [1., -4., 1.] ])\n",
    "print(\"coeff_matrix =\")\n",
    "print(coeff_matrix)\n",
    "print()\n",
    "roots =  quadratic_roots(coeff_matrix)                      # CHANGED\n",
    "print()\n",
    "print(\"Roots = \\n\", roots)                                  # CHANGED\n"
   ]
  },
  {
   "cell_type": "markdown",
   "metadata": {},
   "source": [
    "Now add code to calculate just the discriminant."
   ]
  },
  {
   "cell_type": "code",
   "execution_count": null,
   "metadata": {},
   "outputs": [],
   "source": [
    "import numpy as np\n",
    "def quadratic_roots(coeff_matrix):\n",
    "    \"\"\"Compute roots for an array of quadratic coefficents.\n",
    "    \n",
    "       Each quadratic is a row of `coeff_matrix`.  The three columns of\n",
    "       `coeff_matrix` are the three coefficients a, b, and c corresponding\n",
    "       to ax**2+bx+c = 0 in that order.\"\"\"\n",
    "    eqns = coeff_matrix.shape[0]\n",
    "    print(\"in function, eqns =\", eqns)\n",
    "    roots = np.zeros((eqns, 2))\n",
    "    print(\"in function, roots is initialized to\\n\", roots)\n",
    "    for i in range(0, eqns):\n",
    "        print(\"  LOOP\", i)\n",
    "        a, b, c = coeff_matrix[i, 0], coeff_matrix[i, 1], coeff_matrix[i, 2]   # NEW\n",
    "        desc = np.sqrt(b**2 - 4*a*c)                                           # NEW\n",
    "        print(\"      a, b, c =\", a, b, c)                                      # NEW\n",
    "        print(\"      discriminant =\", desc)                                    # NEW\n",
    "    return roots\n",
    "\n",
    "coeff_matrix = np.array([[1., -2., 1.],   \\\n",
    "                         [1., -3., 1.],   \\\n",
    "                         [1., -4., 1.] ])\n",
    "print(\"coeff_matrix =\")\n",
    "print(coeff_matrix)\n",
    "print()\n",
    "roots =  quadratic_roots(coeff_matrix)\n",
    "print()\n",
    "print(\"Roots = \\n\", roots)"
   ]
  },
  {
   "cell_type": "markdown",
   "metadata": {},
   "source": [
    "Notice that we created the variables `a`, `b`, and `c` to make our subsequent expressions look more natural.  This can improve readability and helps in spotting typos in formulas.  Again, Python is a good tool for prototyping code; use the tool to help you build solutions.\n",
    "\n",
    "If we are convinced that our initializion of `roots`, our new variable names, and our new discriminant statements work correctly, we can remove the associated print statements to reduce clutter so we can concentrate on what we need to check.  On the other hand, when we later test our function with coefficients that result in complex roots, we may need to add some print statements back in to see what's going on (if there's an error).\n",
    "\n",
    "Now add in the root calculator."
   ]
  },
  {
   "cell_type": "code",
   "execution_count": null,
   "metadata": {},
   "outputs": [],
   "source": [
    "import numpy as np\n",
    "def quadratic_roots(coeff_matrix):\n",
    "    \"\"\"Compute roots for an array of quadratic coefficents.\n",
    "    \n",
    "       Each quadratic is a row of `coeff_matrix`.  The three columns of\n",
    "       `coeff_matrix` are the three coefficients a, b, and c corresponding\n",
    "       to ax**2+bx+c = 0 in that order.\"\"\"\n",
    "    eqns = coeff_matrix.shape[0]\n",
    "    print(\"in function, eqns =\", eqns)\n",
    "    roots = np.zeros((eqns, 2))\n",
    "    print(\"in function, roots is initialized to\\n\", roots)\n",
    "    for i in range(0, eqns):\n",
    "        print(\"  LOOP\", i)\n",
    "        a, b, c = coeff_matrix[i, 0], coeff_matrix[i, 1], coeff_matrix[i, 2]\n",
    "        desc = np.sqrt(b**2 - 4*a*c)\n",
    "        print(\"      a, b, c =\", a, b, c)\n",
    "        print(\"      discriminant =\", desc)\n",
    "        roots[i, 0] = (-b + desc) / 2*a            # NEW\n",
    "        roots[i, 1] = (-b - desc) / 2*a            # NEW\n",
    "        print(\"      roots =\\n\", roots)            # NEW\n",
    "    return roots\n",
    "\n",
    "coeff_matrix = np.array([[1., -2., 1.],   \\\n",
    "                         [1., -3., 1.],   \\\n",
    "                         [1., -4., 1.] ])\n",
    "print(\"coeff_matrix =\")\n",
    "print(coeff_matrix)\n",
    "print()\n",
    "roots =  quadratic_roots(coeff_matrix)\n",
    "print()\n",
    "print(\"Roots = \\n\", roots)"
   ]
  },
  {
   "cell_type": "markdown",
   "metadata": {},
   "source": [
    "Did you spot the mistake?  The roots are the correct values, but the code is wrong.  We added only three lines, and it's not the third one (the print statement).  Can you spot the problem?\n",
    "<br>\n",
    ".\n",
    "<br>\n",
    ".\n",
    "<br>\n",
    ".\n",
    "<br>"
   ]
  },
  {
   "cell_type": "markdown",
   "metadata": {},
   "source": [
    "Test cases are only as good as they cover all possibilities.  In this case, the calculations are wrong because of precendence of operators:  you want to divide by the factor (2&ast;a), not divide by 2 and then multiply that result by a.\n",
    "\n",
    "But in the test cases we always set a=1.0, so the error was never detected.  Again, debugging is both an art and a science.\n",
    "\n",
    "The following code corrects the mistake, and gives the same results."
   ]
  },
  {
   "cell_type": "code",
   "execution_count": null,
   "metadata": {},
   "outputs": [],
   "source": [
    "import numpy as np\n",
    "def quadratic_roots(coeff_matrix):\n",
    "    \"\"\"Compute roots for an array of quadratic coefficents.\n",
    "    \n",
    "       Each quadratic is a row of `coeff_matrix`.  The three columns of\n",
    "       `coeff_matrix` are the three coefficients a, b, and c corresponding\n",
    "       to ax**2+bx+c = 0 in that order.\"\"\"\n",
    "    eqns = coeff_matrix.shape[0]\n",
    "    print(\"in function, eqns =\", eqns)\n",
    "    roots = np.zeros((eqns, 2))\n",
    "    print(\"in function, roots is initialized to\\n\", roots)\n",
    "    for i in range(0, eqns):\n",
    "        print(\"  LOOP\", i)\n",
    "        a, b, c = coeff_matrix[i, 0], coeff_matrix[i, 1], coeff_matrix[i, 2]\n",
    "        desc = np.sqrt(b**2 - 4*a*c)\n",
    "        print(\"      a, b, c =\", a, b, c)\n",
    "        print(\"      discriminant =\", desc)\n",
    "        roots[i, 0] = (-b + desc) / (2*a)\n",
    "        roots[i, 1] = (-b - desc) / (2*a)\n",
    "        print(\"      roots =\\n\", roots)\n",
    "    return roots\n",
    "\n",
    "coeff_matrix = np.array([[1., -2., 1.],   \\\n",
    "                         [1., -3., 1.],   \\\n",
    "                         [1., -4., 1.] ])\n",
    "print(\"coeff_matrix =\")\n",
    "print(coeff_matrix)\n",
    "print()\n",
    "roots =  quadratic_roots(coeff_matrix)\n",
    "print()\n",
    "print(\"Roots = \\n\", roots)"
   ]
  },
  {
   "cell_type": "markdown",
   "metadata": {},
   "source": [
    "Finally, convinced that our function works, we:\n",
    "<ul>\n",
    "    <li>update our docstring to correspond to the final result;</li>\n",
    "    <li>save our \"instrumented\" code as something like \"quadratic_roots-instrumented.py\"; and</li>\n",
    "    <li>strip out all of the test code in our working version.</li>\n",
    "    </ul>"
   ]
  },
  {
   "cell_type": "code",
   "execution_count": 2,
   "metadata": {},
   "outputs": [
    {
     "name": "stdout",
     "output_type": "stream",
     "text": [
      "coeff_matrix =\n",
      "[[ 1. -2.  1.]\n",
      " [ 1. -3.  1.]\n",
      " [ 1. -4.  1.]]\n",
      "\n",
      "Roots = \n",
      " [[1.         1.        ]\n",
      " [2.61803399 0.38196601]\n",
      " [3.73205081 0.26794919]]\n"
     ]
    }
   ],
   "source": [
    "import numpy as np\n",
    "def quadratic_roots(coeff_matrix):\n",
    "    \"\"\"Compute roots for an array of quadratic coefficents.\n",
    "    \n",
    "       Each quadratic is represented by a row of `coeff_matrix`.  The three\n",
    "       columns of `coeff_matrix` are the three coefficients a, b, and c\n",
    "       corresponding to ax**2+bx+c = 0 in that order.\n",
    "       \n",
    "       The output is an array of roots with a row for each input row and\n",
    "       two columns for the two roots, + then -.\n",
    "       \"\"\"\n",
    "    eqns = coeff_matrix.shape[0]     # each row of `coeff_matrix` is a quadratic\n",
    "    roots = np.zeros((eqns, 2))\n",
    "    for i in range(0, eqns):\n",
    "        a, b, c = coeff_matrix[i, 0], coeff_matrix[i, 1], coeff_matrix[i, 2]\n",
    "        desc = np.sqrt(b**2 - 4*a*c)\n",
    "        roots[i, 0] = (-b + desc) / (2*a)\n",
    "        roots[i, 1] = (-b - desc) / (2*a)\n",
    "    return roots\n",
    "\n",
    "Submitty = False\n",
    "if (not Submitty):\n",
    "    coeff_matrix = np.array([[1., -2., 1.],   \\\n",
    "                             [1., -3., 1.],   \\\n",
    "                             [1., -4., 1.] ])\n",
    "    print(\"coeff_matrix =\")\n",
    "    print(coeff_matrix)\n",
    "    print()\n",
    "    roots =  quadratic_roots(coeff_matrix)\n",
    "    print(\"Roots = \\n\", roots)"
   ]
  },
  {
   "cell_type": "code",
   "execution_count": null,
   "metadata": {},
   "outputs": [],
   "source": []
  }
 ],
 "metadata": {
  "kernelspec": {
   "display_name": "Python 3",
   "language": "python",
   "name": "python3"
  },
  "language_info": {
   "codemirror_mode": {
    "name": "ipython",
    "version": 3
   },
   "file_extension": ".py",
   "mimetype": "text/x-python",
   "name": "python",
   "nbconvert_exporter": "python",
   "pygments_lexer": "ipython3",
   "version": "3.8.5"
  }
 },
 "nbformat": 4,
 "nbformat_minor": 2
}
