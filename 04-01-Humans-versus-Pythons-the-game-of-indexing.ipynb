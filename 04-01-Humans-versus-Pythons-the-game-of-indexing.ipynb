{
 "cells": [
  {
   "cell_type": "markdown",
   "metadata": {},
   "source": [
    "## 4.1:  Humans versus Pythons &mdash; the game of indexing"
   ]
  },
  {
   "cell_type": "markdown",
   "metadata": {},
   "source": [
    "Much of this is a reminder of things you should have learned previously; in particular, from Jupyter Notebook Topics\n",
    "<ul>\n",
    "    <li>2.1 NumPy Arrays</li>\n",
    "    <li>2.2 Repetitive Tasks and for loops</li>\n",
    "    </ul>\n",
    "  on arrays and indexing.  A functon design example is also shown."
   ]
  },
  {
   "cell_type": "markdown",
   "metadata": {},
   "source": [
    "Suppose we have an array of numbers that we want to print out."
   ]
  },
  {
   "cell_type": "code",
   "execution_count": null,
   "metadata": {},
   "outputs": [],
   "source": [
    "import numpy as np\n",
    "a  = np.array([1., 2., 3., 4., 5.])\n",
    "print(a)"
   ]
  },
  {
   "cell_type": "markdown",
   "metadata": {},
   "source": [
    "Now suppose that we want to print one element at a time on successive lines.  This is asking for a loop over all of the elements of the array."
   ]
  },
  {
   "cell_type": "code",
   "execution_count": null,
   "metadata": {},
   "outputs": [],
   "source": [
    "for element in a:       # `element` is sequentially assigned an element or array a, in order\n",
    "    print(element)"
   ]
  },
  {
   "cell_type": "markdown",
   "metadata": {},
   "source": [
    "### 4.1.1 range(start, stop, stride) indexing\n",
    "\n",
    "Now suppose that we want to know what position in the array each element is.  This means using an index variable, and specifying a `range` for the index variable to span.\n",
    "\n",
    "We need to know a lot more about `a` so we can give that information to the `range` function:\n",
    "<ul>\n",
    "    <li>the index to start from</li>\n",
    "    <li>the index to stop at</li>\n",
    "    </ul>\n",
    "\n",
    "We also need to know how Python's `range` function works.  When we specify `range(start, stop)`, the range  function will produce a sequence of integers:\n",
    "<ul>\n",
    "    <li>from and including `start`,</li>\n",
    "    <li>to but <u>not</u> including `stop`.</li>\n",
    "    </ul>"
   ]
  },
  {
   "cell_type": "code",
   "execution_count": null,
   "metadata": {},
   "outputs": [],
   "source": [
    "a  = np.array([1., 2., 3., 4., 5.])\n",
    "print(\"a = \", a)\n",
    "n = a.shape[0]          # or use a.size since `a` is a 1D NumPy array.\n",
    "print(\"number of elements in a = \", n)\n",
    "\n",
    "start = 0\n",
    "stop  = n\n",
    "for i in range(start, stop):\n",
    "    print(\"  The \" + str(i) + \"th element is\", a[i])"
   ]
  },
  {
   "cell_type": "markdown",
   "metadata": {},
   "source": [
    "Note that even though there are n = 5 elements in array \"a\" &ndash; we humans would say elements 1, 2, 3, 4, and 5 &ndash; Python indexing starts from 0 so the elements are indexed as shown above, stopping at n-1 (with the terminal 4th element).\n",
    "\n",
    "What if we try to access the n=5 element as shown below?  An error results.  The error tells you that\n",
    "<ul>\n",
    "    <li>\"index 5\" &mdash; n = 5 and the [n]-th element of array \"a\" was requested...</li>\n",
    "    <li>\"is out of bounds\" &mdash; but is not in the index range of the array...</li>\n",
    "    <li>\"for axis 0\" &mdash; along the array's 0th axis (the number of rows, a.shape[0])...</li>\n",
    "    <li>\"with size 5\" &mdash; that has 5 elements, and thus only permits index values of 0, 1, 2, 3, and 4.</li>\n",
    "    </ul>"
   ]
  },
  {
   "cell_type": "code",
   "execution_count": null,
   "metadata": {},
   "outputs": [],
   "source": [
    "print(a[n])"
   ]
  },
  {
   "cell_type": "markdown",
   "metadata": {},
   "source": [
    "If we write `range(n)` it is the same as writing `range(0, n)` because Python assumes that the first value is 0 if it is not specified.  It is also the same as `range(0, n, 1)` where the third value is known as the \"stride\" or \"step\".  The stride gives the step size and direction for traversing the range.  A stride of 2 will select every other value in the range (e.g., 0, 2, 4,...) up to but not including the stop index.\n",
    "\n",
    "A stride of 0 will result in an error:  `ValueError: range() arg 3 must not be zero`"
   ]
  },
  {
   "cell_type": "markdown",
   "metadata": {},
   "source": [
    "A stride of -1 will take a step in the negative direction, but `start` and `stop` must also be in descending order.  Let's try to construct an example where we want to list the elements of \"a\" in reverse order.  Let's start with various attempts that are wrong to see how range does and does not work.\n",
    "\n",
    "First, start = 0 and stop = n, as if we believe that range will traverse that forward sequence backwards when stride = -1."
   ]
  },
  {
   "cell_type": "code",
   "execution_count": null,
   "metadata": {},
   "outputs": [],
   "source": [
    "import numpy as np\n",
    "a  = np.array([1., 2., 3., 4., 5.])\n",
    "print(\"a = \", a)\n",
    "\n",
    "n = a.shape[0]          # or use a.size since `a` is a 1D NumPy array.\n",
    "print(\"number of elements in a = \", n)\n",
    "\n",
    "start, stop, stride = 0, n, -1\n",
    "\n",
    "for i in range(start, stop, stride):\n",
    "    print(\"  The \" + str(i) + \"th element is\", a[i])\n",
    "print(\"The loop is done with start, stop, stride = \", start, stop, stride)"
   ]
  },
  {
   "cell_type": "markdown",
   "metadata": {},
   "source": [
    "The print statement in the loop did not execute because we told the loop to start at 0 and go to 4 (= n-1) by taking steps in the negative direction.  Which it can't do, so it simply skipped the loop.\n",
    "\n",
    "So instead let's (again mistakenly) simply try reversing the order of the range start and stop:  from n to 0 stepping -1."
   ]
  },
  {
   "cell_type": "code",
   "execution_count": null,
   "metadata": {},
   "outputs": [],
   "source": [
    "import numpy as np\n",
    "a  = np.array([1., 2., 3., 4., 5.])\n",
    "print(\"a = \", a)\n",
    "\n",
    "n = a.shape[0]          # or use a.size since `a` is a 1D NumPy array.\n",
    "print(\"number of elements in a = \", n)\n",
    "\n",
    "start, stop, stride = n, 0, -1\n",
    "\n",
    "for i in range(start, stop, stride):\n",
    "    print(\"  The \" + str(i) + \"th element is\", a[i])\n",
    "print(\"The loop is done with start, stop, stride = \", start, stop, stride)"
   ]
  },
  {
   "cell_type": "markdown",
   "metadata": {},
   "source": [
    "But doing that means the first time the loop is executed i = 5 (=n), and `a[5]` does not exist; only `a[4]`, `a[3]`, `a[2]`, `a[1]`, and `a[0]` do.  If we want to start with the last element of \"a\", we need the 4th element, `a[4]`.  So we need to start the range at 4 (or n-1 in general) and descend from there."
   ]
  },
  {
   "cell_type": "code",
   "execution_count": null,
   "metadata": {},
   "outputs": [],
   "source": [
    "import numpy as np\n",
    "a  = np.array([1., 2., 3., 4., 5.])\n",
    "print(\"a = \", a)\n",
    "\n",
    "n = a.shape[0]          # or use a.size since `a` is a 1D NumPy array.\n",
    "print(\"number of elements in a = \", n)\n",
    "\n",
    "start, stop, stride = n-1, 0, -1\n",
    "\n",
    "for i in range(start, stop, stride):\n",
    "    print(\"  The \" + str(i) + \"th element is\", a[i])\n",
    "print(\"The loop is done with start, stop, stride = \", start, stop, stride)"
   ]
  },
  {
   "cell_type": "markdown",
   "metadata": {},
   "source": [
    "But now we see that we're missing the last element (the 0th element).  That's because we told it to `stop` at 0, but again Python stops at <u>but not including</u> the stop value.  So if we tell it to descend and stop at 0, Python will stop at 1.\n",
    "\n",
    "We have to tell the range to stop at -1 if we want the index to stop at 0, because -1 is one past 0 when descending with the stride of -1."
   ]
  },
  {
   "cell_type": "code",
   "execution_count": null,
   "metadata": {},
   "outputs": [],
   "source": [
    "import numpy as np\n",
    "a  = np.array([1., 2., 3., 4., 5.])\n",
    "print(\"a = \", a)\n",
    "\n",
    "n = a.shape[0]          # or use a.size since `a` is a 1D NumPy array.\n",
    "print(\"number of elements in a = \", n)\n",
    "\n",
    "start, stop, stride = n-1, -1, -1\n",
    "\n",
    "for i in range(start, stop, stride):\n",
    "    print(\"  The \" + str(i) + \"th element is\", a[i])\n",
    "print(\"The loop is done with start, stop, stride = \", start, stop, stride)"
   ]
  },
  {
   "cell_type": "markdown",
   "metadata": {},
   "source": [
    "### 4.1.2 array&#91;start, stop, stride&#93; slicing is the same as range, except... slightly different!\n",
    "\n",
    "If the values for start and stop are non-negative and the stride is positive then the behavior of the `range` function and array slicing is identical.  For example, if we want (human indexing) elements 2 and 3 of array \"a\", the slice is `a[1:3}` (Python indexing):  we start at index 1 (the second element) and stop just before index 3, whice is index 2 (the third element), with an (implicit) stride of 1."
   ]
  },
  {
   "cell_type": "code",
   "execution_count": null,
   "metadata": {},
   "outputs": [],
   "source": [
    "import numpy as np\n",
    "a  = np.array([1., 2., 3., 4., 5.])\n",
    "\n",
    "print(\"The second and third elements of a = \", a, \"\\nare: \", a[1:3])\n",
    "print()\n",
    "print(\"The odd elements of a = \", a, \"\\nare: \", a[::2])"
   ]
  },
  {
   "cell_type": "markdown",
   "metadata": {},
   "source": [
    "Slicing can also be visualized by indexing the following array of six characters differently depending on whether we are referring to a slice or an element.  (As we will see, this picture only applies when the stride is positive, which is the \"slightly different\" problem we are leading up to.)<br><br>\n",
    "`.\n",
    "          | \"P\" | \"y\" | \"t\" | \"h\" | \"o\" | \"n\" |\n",
    " slice:   0     1     2     3     4     5     6\n",
    "+index:      0     1     2     3     4     5\n",
    "-index:     -6    -5    -4    -3    -2    -1\n",
    "`<br><br>\n",
    "This illustrates that <u>slicing</u> an array selects elements between slice indices to make a new array.  In contrast, <u>selecting</u> an element by its index, whether from the left or the right, gives that specific element corresponding to its index.\n",
    "\n",
    "In this sense, a &#91;start, stop&#93; slice, in human terms, takes a total of \"stop\" items, but then leaves off the first \"start\" items."
   ]
  },
  {
   "cell_type": "code",
   "execution_count": null,
   "metadata": {},
   "outputs": [],
   "source": [
    "s = [\"P\", \"y\", \"t\", \"h\", \"o\", \"n\"]\n",
    "print(\"string array = \", s)\n",
    "print()\n",
    "print(\"slice first two letters:  \", s[0:2])                # slice from 0 up to 2\n",
    "print(\"slice last two letters:   \", s[4:6])                # slice from 4 up to 6\n",
    "print(\"third letters from both sides:  \", s[2], s[-3])     # index 2 from the left, index -3 from the right\n",
    "print()\n",
    "print(\"five letters, leaving off zero of them:  \", s[0:5]) # slice 5 letters, leave off 0\n",
    "print(\"five letters, except the first two:  \", s[2:5])     # slice 5 letters, but leave off the first 2"
   ]
  },
  {
   "cell_type": "markdown",
   "metadata": {},
   "source": [
    "Where things get muddled is when the stride is negative to access the elements in reverse order.\n",
    "\n",
    "First some examples that work, when the slice does not need to include the first element in the array."
   ]
  },
  {
   "cell_type": "code",
   "execution_count": null,
   "metadata": {},
   "outputs": [],
   "source": [
    "import numpy as np\n",
    "#     -index: -5  -4  -3  -2  -1\n",
    "#     +index:  0   1   2   3   4\n",
    "a  = np.array([1., 2., 3., 4., 5.])\n",
    "print(\"a = \", a)\n",
    "\n",
    "print()\n",
    "print(\"to get the slice [2., 3., 4.] with stride 1\")\n",
    "print(a[ 1: 4: 1])\n",
    "print(a[-4:-1: 1])\n",
    "print(a[ 1:-1: 1])\n",
    "print(a[-4: 4: 1])\n",
    "\n",
    "print()\n",
    "print(\"to get the reversed slice [4., 3., 2.] with stride -1\")\n",
    "print(a[ 3: 0:-1])\n",
    "print(a[-2:-5:-1])\n",
    "print(a[ 3:-5:-1])\n",
    "print(a[-2: 0:-1])"
   ]
  },
  {
   "cell_type": "markdown",
   "metadata": {},
   "source": [
    "The problem is that `stop = -1 in range` makes sense, as in \"down to but not including -1\"; that is, down to index 0.  But `stop = -1 in a slice` has special meaning tied to negative indices:  the -1 element in an array is the last element in the array, which confuses the slice, as can be seen in the example below where going from the 1-th element up to the (-1)-th element (which is the (n-1)-th or last element) cannot be done with steps in the negative direction and so an empty slice results."
   ]
  },
  {
   "cell_type": "code",
   "execution_count": null,
   "metadata": {},
   "outputs": [],
   "source": [
    "# now try to stop at -1, just past 0 when descending with a step of -1\n",
    "print(\"But what if we want the first two elements in reverse:  \", a[1:-1:-1])\n",
    "print(\"That doesn't work!\")"
   ]
  },
  {
   "cell_type": "markdown",
   "metadata": {},
   "source": [
    "To be able to access the first element of an array using a slice with a negative stride, Python has the defaults for start and stop change depending on whether the stride is positive or negative.\n",
    "\n",
    "stride:  positive is forward, negative is backward; default is \"1\"\n",
    "\n",
    "start:<br>\n",
    " &nbsp; &nbsp; stride > 0 => default is \"0\" (first element)<br>\n",
    " &nbsp; &nbsp; stride < 0 => default is \"-1\" (last element)<br>\n",
    "\n",
    "stop:<br>\n",
    " &nbsp; &nbsp; stride > 0 => default is the size of the array (last element index + 1)<br>\n",
    " &nbsp; &nbsp; stride < 0 => default is -(size of array + 1) (first element of index -1) <br>\n",
    " \n",
    "The conclusion is that you should use the default for the \"stop\" index when trying to slice an array in reverse and you need to include the first element of the array.  Alternatively, you can use negative indices as shown."
   ]
  },
  {
   "cell_type": "code",
   "execution_count": null,
   "metadata": {},
   "outputs": [],
   "source": [
    "import numpy as np\n",
    "a  = np.array([1., 2., 3., 4., 5.])\n",
    "print(\"a = \", a)\n",
    "\n",
    "print()\n",
    "\n",
    "print(\"To get the entire array as a slice\")\n",
    "print(a[ 0: 5: 1])\n",
    "print(a[  : 5: 1])\n",
    "print(a[ 0:  : 1])\n",
    "print(a[  :  : 1])\n",
    "\n",
    "print()\n",
    "print(\"To get the entire array as a slice -- in reverse, with -indices\")\n",
    "print(a[-1:-6:-1])\n",
    "print(a[-1:  :-1])\n",
    "print(a[  :-6:-1])\n",
    "print(a[  :  :-1])\n",
    "print(\"To get the entire array as a slice -- in reverse, with +indices\")\n",
    "print(a[ 4:  :-1])\n",
    "print(a[  :  :-1])\n",
    "print(\"To get the entire array as a slice -- in reverse, with mixed indices\")\n",
    "print(a[ 4:-6:-1])\n",
    "print(\"   but not like this\")\n",
    "print(a[ 4:-1:-1])"
   ]
  },
  {
   "cell_type": "markdown",
   "metadata": {},
   "source": [
    "Note that this logic of \"range to include start, exclude stop\" does not necessarily apply to other functions that generate sequences of numbers.\n",
    "\n",
    "NumPy's linspace function, which generates a given number of uniformly spaced values between a start and a stop, is inclusive of both ends."
   ]
  },
  {
   "cell_type": "code",
   "execution_count": null,
   "metadata": {},
   "outputs": [],
   "source": [
    "for x in np.linspace(0, 5, 6):  # generate 6 equally spaced numbers between 0 and 5, inclusive\n",
    "    print(x)"
   ]
  },
  {
   "cell_type": "markdown",
   "metadata": {},
   "source": [
    "### 4.1.3 practice slicing and dicing\n",
    "\n",
    "Try to predict what the following slices will generate."
   ]
  },
  {
   "cell_type": "code",
   "execution_count": null,
   "metadata": {},
   "outputs": [],
   "source": [
    "import numpy as np\n",
    "M = np.array([[31., 32., 33.],   \\\n",
    "              [34., 35., 36.],   \\\n",
    "              [37., 38., 39.],   \\\n",
    "              [40., 41., 42.] ])\n",
    "print(M[:,:])\n",
    "print()\n",
    "print(M[1:3, 1:2])"
   ]
  },
  {
   "cell_type": "code",
   "execution_count": null,
   "metadata": {},
   "outputs": [],
   "source": [
    "print(M[1:3, 2:0:-1])"
   ]
  },
  {
   "cell_type": "code",
   "execution_count": null,
   "metadata": {},
   "outputs": [],
   "source": [
    "print(M[:, 0:0])"
   ]
  },
  {
   "cell_type": "code",
   "execution_count": null,
   "metadata": {},
   "outputs": [],
   "source": [
    "print(M[3:1:-1, 0:2])"
   ]
  },
  {
   "cell_type": "code",
   "execution_count": null,
   "metadata": {},
   "outputs": [],
   "source": [
    "print(M[:1:-1, 1::-1])"
   ]
  },
  {
   "cell_type": "code",
   "execution_count": null,
   "metadata": {},
   "outputs": [],
   "source": []
  }
 ],
 "metadata": {
  "kernelspec": {
   "display_name": "Python 3",
   "language": "python",
   "name": "python3"
  },
  "language_info": {
   "codemirror_mode": {
    "name": "ipython",
    "version": 3
   },
   "file_extension": ".py",
   "mimetype": "text/x-python",
   "name": "python",
   "nbconvert_exporter": "python",
   "pygments_lexer": "ipython3",
   "version": "3.8.5"
  }
 },
 "nbformat": 4,
 "nbformat_minor": 2
}
