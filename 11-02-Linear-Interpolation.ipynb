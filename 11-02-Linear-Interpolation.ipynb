{
 "cells": [
  {
   "cell_type": "markdown",
   "metadata": {},
   "source": [
    "## 11.2:   Linear Interpolation"
   ]
  },
  {
   "cell_type": "markdown",
   "metadata": {},
   "source": [
    "Those taking or who have taken thermodynamics know about using steam tables and other property tables."
   ]
  },
  {
   "cell_type": "code",
   "execution_count": null,
   "metadata": {},
   "outputs": [],
   "source": [
    "import numpy as np\n",
    "\n",
    "TC = np.array([ 0.01,  5., 10., 15., 20.,\n",
    "               25.  , 30., 35., 40., 45.,\n",
    "               50.  , 55., 60., 65., 70.,\n",
    "               75.  , 80., 85., 90., 95. ])\n",
    "\n",
    "P_sat = np.array([ 0.6113,  0.8721,  1.2276,  1.7051,  2.339,\n",
    "                   3.169 ,  4.246 ,  5.628 ,  7.384 ,  9.593,\n",
    "                  12.349 , 15.758 , 19.940 , 25.03  , 31.19 ,\n",
    "                  38.58  , 47.39  , 57.83  , 70.14  , 84.55  ])\n",
    "\n",
    "assert TC.size == P_sat.size, \"Data size mismatch between TC and P_sat\"\n",
    "\n",
    "print(\"Saturation Pressure [kPa] versus Temperature [C]\")\n",
    "print()\n",
    "print(\"Temperature    Pressure\")\n",
    "print(\"-----------    --------\")\n",
    "for T, P in zip(TC, P_sat):\n",
    "    string  = \"   \"\n",
    "    string += '{:5.2f}'.format(T)\n",
    "    string += \"       \"\n",
    "    string += '{:7.4f}'.format(P)\n",
    "    print(string)"
   ]
  },
  {
   "cell_type": "markdown",
   "metadata": {},
   "source": [
    "Suppose you want the saturation pressure at 21.5 C.  Since this temperature is not explicitly in the table, the usual approach is to use linear interpolation.  The linear interpolation formula can be derived by taking ratios of the independent and dependent variables.\n",
    "<br><br>\n",
    "&nbsp; &nbsp; &nbsp; &nbsp; &nbsp; \n",
    "$\n",
    "{\\large \\frac{T \\ - \\ T_1}{T_2 \\ - \\ T_1}} \\ \\ = \\ \\ {\\large \\frac{P \\ - \\ P_1}{P_2 \\ - \\ P_1}}\n",
    "$\n",
    "&nbsp; &nbsp; &nbsp; &nbsp;\n",
    "or, for &nbsp; \n",
    "$\n",
    "T_{i-1} \\leq T \\leq T_i\n",
    "$\n",
    ": &nbsp; &nbsp; &nbsp; &nbsp;\n",
    "$\n",
    "{\\large \\frac{T \\ - \\ T_{i-1}}{T_i \\ - \\ T_{i-1}}} \\ \\ = \\ \\ {\\large \\frac{P \\ - \\ P_{i-1}}{P_i \\ - \\ P_{i-1}}}\n",
    "$\n",
    "<br><br>\n",
    "so that<br><br>\n",
    "&nbsp; &nbsp; &nbsp; &nbsp; &nbsp; \n",
    "$\n",
    "P \\ \\ = \\ \\ P_{i-1} \\ + \\ (T \\ - \\ T_{i-1}) \\! \\left( {\\large \\frac{P_i \\ - \\ P_{i-1}}{T_i \\ - \\ T_{i-1}}} \\right)\n",
    "$"
   ]
  },
  {
   "cell_type": "code",
   "execution_count": null,
   "metadata": {},
   "outputs": [],
   "source": [
    "def linearly_interpolate_Psat(T):\n",
    "    \"\"\"Linear interpolation of Psat vs T data.\n",
    "    \n",
    "    Uses TC and P_sat arrays from previous cell (so that cell must be run first)\n",
    "    \"\"\"\n",
    "\n",
    "    assert T >= TC[0] and T <= TC[-1], \"Temperature is out of range\"\n",
    "\n",
    "    for i, t in enumerate(TC):    # find the input temperature in the list\n",
    "        if (t == T):              # the input T has a known P\n",
    "            return P_sat[i]\n",
    "        elif (t > T):             # t has gone above T, so this t is T_2 = TC[i]; then T_1 = TC[i-1]\n",
    "            P = P_sat[i-1] + (T - TC[i-1]) * ( (P_sat[i] - P_sat[i-1]) / (TC[i] - TC[i-1]) )\n",
    "            return P\n",
    "        else:                     # t < T so keep looking for when t crosses over T\n",
    "            continue              # continue loop\n",
    "    assert False, \"If we get here, our algorithm failed or the TC array is not monotonic increasing\"\n",
    "\n",
    "T = 21.5\n",
    "P = linearly_interpolate_Psat(T)\n",
    "print(\"T [C] = \", T, \"and Psat [kPa] = \", P)"
   ]
  },
  {
   "cell_type": "markdown",
   "metadata": {},
   "source": [
    "But if we plot P_sat versus TC the curve is clearly not linear (although it does look reasonably linear between 15 and 30 degrees C)."
   ]
  },
  {
   "cell_type": "code",
   "execution_count": null,
   "metadata": {},
   "outputs": [],
   "source": [
    "import matplotlib.pyplot as plt\n",
    "fig = plt.figure(1)\n",
    "plt.plot(TC, P_sat, 'r-', linewidth = 2.0)\n",
    "plt.xlabel(\"Temperature, T [K]\", fontsize=12, labelpad=10)\n",
    "plt.ylabel(\"Saturation Pressure, Psat [kPa]\", fontsize=12, labelpad=10)\n",
    "title_string  = \"Non-linear saturation pressure dependence on temperature\"\n",
    "plt.title(title_string)\n",
    "plt.show()\n",
    "\n",
    "fig = plt.figure(2)\n",
    "plt.plot(TC, P_sat, 'r-', linewidth = 2.0)\n",
    "plt.xlabel(\"Temperature, T [K]\", fontsize=12, labelpad=10)\n",
    "plt.ylabel(\"Saturation Pressure, Psat [kPa]\", fontsize=12, labelpad=10)\n",
    "\n",
    "# zoom in on region of interest\n",
    "plt.xlim(15.0, 30.0)\n",
    "plt.ylim( 1.7,  4.3)\n",
    "title_string  = \"Non-linear saturation pressure dependence on temperature\\n\"\n",
    "title_string += \"zoomed in on interval of interest\"\n",
    "\n",
    "plt.title(title_string)\n",
    "plt.show()\n"
   ]
  },
  {
   "cell_type": "markdown",
   "metadata": {},
   "source": [
    "To do better we can use Lagrange interpolation to calculate a higher order fit."
   ]
  },
  {
   "cell_type": "code",
   "execution_count": null,
   "metadata": {},
   "outputs": [],
   "source": []
  }
 ],
 "metadata": {
  "kernelspec": {
   "display_name": "Python 3",
   "language": "python",
   "name": "python3"
  },
  "language_info": {
   "codemirror_mode": {
    "name": "ipython",
    "version": 3
   },
   "file_extension": ".py",
   "mimetype": "text/x-python",
   "name": "python",
   "nbconvert_exporter": "python",
   "pygments_lexer": "ipython3",
   "version": "3.8.5"
  }
 },
 "nbformat": 4,
 "nbformat_minor": 2
}
