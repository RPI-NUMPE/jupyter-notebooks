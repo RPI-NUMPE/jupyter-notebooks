{
 "cells": [
  {
   "cell_type": "markdown",
   "metadata": {},
   "source": [
    "# 3.1:  what's your function"
   ]
  },
  {
   "cell_type": "markdown",
   "metadata": {},
   "source": [
    "First the simple function and call example from the 03 Preliminaries.\n",
    "\n",
    "Note the use of the grave accent, &grave; (below the tilda key, next to \"1\", on many keyboards) to hilight the variable x in the docstring.  This is a common alternative to using escaped quotation marks inside docstrings."
   ]
  },
  {
   "cell_type": "code",
   "execution_count": null,
   "metadata": {},
   "outputs": [],
   "source": [
    "def cube(x):\n",
    "    \"\"\"cube of `x`\"\"\"\n",
    "    return x**3.0\n",
    "\n",
    "a = cube(2.0)  # parameter x ← argument 2.0\n",
    "print(a)\n",
    "\n",
    "z = 10.0       # variable z ← literal 10.0\n",
    "b = cube(z)    # parameter x ← argument z\n",
    "print(b)       # argument b is passed to a parameter in Python's print function"
   ]
  },
  {
   "cell_type": "markdown",
   "metadata": {},
   "source": [
    "### 3.1.1 projectile and other functions\n",
    "\n",
    "Below is the projectile function and other functions used to enhance the presentation of the output from the 03 Preliminaries."
   ]
  },
  {
   "cell_type": "code",
   "execution_count": null,
   "metadata": {},
   "outputs": [],
   "source": [
    "def projectile(vx, vy):\n",
    "    \"\"\"Terrestrial projectile time-of-flight and distance.\n",
    "\n",
    "    Assumes projectile initial position is (x, y) = (0, 0);\n",
    "    Neglects aerodynamic forces;\n",
    "    Assumes the projectile travels above a flat surface.\n",
    "\n",
    "    INPUT:\n",
    "      vx - initial horizontal velocity component [m/s]\n",
    "      vy - initial vertical velocity component [m/s]\n",
    "\n",
    "    OUTPUT:\n",
    "      t    - time of flight [s]\n",
    "      vx*t - horizontal distance travelled [m]\n",
    "\n",
    "    CONSTANTS:\n",
    "      assumes 2D acceleration vector is (0,-9.80665 m/s2)\n",
    "    \"\"\"\n",
    "\n",
    "    g = 9.80665    # [m/s**2] standard acceleration of gravity\n",
    "    t = 2*vy/g     # [s]\n",
    "    return t, vx*t\n",
    "\n",
    "\n",
    "def print_results(time, dist):\n",
    "    \"\"\"prints results returned from function `projectile`\"\"\"\n",
    "    print(\"   time of flight: \", time, \"seconds\")\n",
    "    print(\"distance traveled: \", dist, \"meters\")\n",
    "    return None\n",
    "\n",
    "\n",
    "def print_blank_line():\n",
    "    \"\"\"advances output one line\"\"\"\n",
    "    print()\n",
    "    return None\n",
    "\n",
    "\n",
    "######################\n",
    "# Test these functions\n",
    "######################\n",
    "\n",
    "print(\"For v_x =\", 1.0, \"and v_y =\", 2.0)\n",
    "time, dist = projectile(1.0, 2.0)\n",
    "print_results(time, dist)\n",
    "print_blank_line()\n",
    "\n",
    "print(\"For v_x =\", 10.0, \"and v_y =\", 20.0)\n",
    "t, x = projectile(10.0, 20.0)       # arguments 10.0 and 20.0\n",
    "print_results(t, x)\n",
    "print_blank_line()\n",
    "\n",
    "a = 0.4\n",
    "print(\"For v_x =\", a, \"and v_y =\", 4.903325)\n",
    "t, x = projectile(a, 4.903325)      # arguments `a` and  4.903325.  Do the results make sense (4.903325 = g/2)?\n",
    "print_results(t, x)\n",
    "print_blank_line()\n",
    "\n",
    "vx, vy = -3.0, -4.0                 # was the function designed with this input in mind?\n",
    "print(\"For v_x =\", vx, \"and v_y =\", vy)\n",
    "t, x = projectile(vx, vy)           # arguments vx and vy with same names as parameters is ok\n",
    "print_results(t, x)"
   ]
  },
  {
   "cell_type": "markdown",
   "metadata": {},
   "source": [
    "### 3.1.2 help for functions\n",
    "\n",
    "After running the above cells (so that the functions are in memory), execute the following cells to observe how you can access the documentation for a function or library based on the docstrings.  Let this encourage you to learn to write good docstrings for your functions.\n",
    "\n",
    "Why do we provide only a one-line docstring for function `cube` but a sixteen line docstring for `projectile`?  It general it is a balance between what you think a user of your code needs and expects, and brevity.  In this course we typically expect four or more lines for a function docstring for all but the most simplistic of functions (like \"cube\"):\n",
    "<ul>\n",
    "    <li>a short, concise summary of the function</li>\n",
    "    <li>a blank line</li>\n",
    "    <li>two or more descriptive lines that are useful</li>\n",
    "    </ul>"
   ]
  },
  {
   "cell_type": "code",
   "execution_count": null,
   "metadata": {},
   "outputs": [],
   "source": [
    "help(cube)"
   ]
  },
  {
   "cell_type": "code",
   "execution_count": null,
   "metadata": {},
   "outputs": [],
   "source": [
    "help(projectile)"
   ]
  },
  {
   "cell_type": "markdown",
   "metadata": {},
   "source": [
    "For more examples of help run the cells below.\n",
    "\n",
    "Observe that each function is described as being in a module.  Essentially, any file with Python code is a module.  We will discuss modules more in a future lesson.  Modules should also have docstrings, which is why help(math) works.  However, do not use help(numpy) in this Jupyter Notebook as the output is too large and an error message will result.  Use help for specific functions in numpy, or look up the documentation online.\n",
    "\n",
    "Finaly, note that `print` is a function built into Python."
   ]
  },
  {
   "cell_type": "code",
   "execution_count": null,
   "metadata": {},
   "outputs": [],
   "source": [
    "import math\n",
    "help(math.cos)"
   ]
  },
  {
   "cell_type": "code",
   "execution_count": null,
   "metadata": {},
   "outputs": [],
   "source": [
    "import math\n",
    "help(math)"
   ]
  },
  {
   "cell_type": "code",
   "execution_count": null,
   "metadata": {},
   "outputs": [],
   "source": [
    "help(print)"
   ]
  },
  {
   "cell_type": "code",
   "execution_count": null,
   "metadata": {},
   "outputs": [],
   "source": []
  }
 ],
 "metadata": {
  "kernelspec": {
   "display_name": "Python 3",
   "language": "python",
   "name": "python3"
  },
  "language_info": {
   "codemirror_mode": {
    "name": "ipython",
    "version": 3
   },
   "file_extension": ".py",
   "mimetype": "text/x-python",
   "name": "python",
   "nbconvert_exporter": "python",
   "pygments_lexer": "ipython3",
   "version": "3.8.5"
  }
 },
 "nbformat": 4,
 "nbformat_minor": 2
}
