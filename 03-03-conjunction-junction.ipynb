{
 "cells": [
  {
   "cell_type": "markdown",
   "metadata": {},
   "source": [
    "# 3.3:  conjunction junction"
   ]
  },
  {
   "cell_type": "markdown",
   "metadata": {},
   "source": [
    "The bool type is Python’s implementation of boolean variables."
   ]
  },
  {
   "cell_type": "code",
   "execution_count": null,
   "metadata": {},
   "outputs": [],
   "source": [
    "study = True       # bool type with value `True`\n",
    "print(study)"
   ]
  },
  {
   "cell_type": "code",
   "execution_count": null,
   "metadata": {},
   "outputs": [],
   "source": [
    "watch_tv = False   # watch_tv has the value `False`\n",
    "print(watch_tv)"
   ]
  },
  {
   "cell_type": "code",
   "execution_count": null,
   "metadata": {},
   "outputs": [],
   "source": [
    "sleep = true       # case is significant!"
   ]
  },
  {
   "cell_type": "markdown",
   "metadata": {},
   "source": [
    "The boolean operators:  not, and, or."
   ]
  },
  {
   "cell_type": "code",
   "execution_count": null,
   "metadata": {},
   "outputs": [],
   "source": [
    "study = True \n",
    "watch_tv = False\n",
    "\n",
    "print(not study         )     # (not True)\n",
    "print(study and watch_tv)     # (True and False)\n",
    "print(study or watch_tv )     # (True or False)"
   ]
  },
  {
   "cell_type": "markdown",
   "metadata": {},
   "source": [
    "Not operator"
   ]
  },
  {
   "cell_type": "code",
   "execution_count": null,
   "metadata": {},
   "outputs": [],
   "source": [
    "study = True \n",
    "watch_tv = False\n",
    "\n",
    "print(not True    )   # changes True to False\n",
    "print(not False   )   # changes False to True\n",
    "print(not study   )\n",
    "print(not watch_tv)"
   ]
  },
  {
   "cell_type": "markdown",
   "metadata": {},
   "source": [
    "And operator"
   ]
  },
  {
   "cell_type": "code",
   "execution_count": null,
   "metadata": {},
   "outputs": [],
   "source": [
    "study = True \n",
    "watch_tv = False\n",
    "\n",
    "# these are all equivalent, and True\n",
    "print( study and  not watch_tv  )\n",
    "print( study and (not watch_tv) )\n",
    "print( True  and (not False   ) )\n",
    "print( True  and (True        ) )\n",
    "print( True  and  True          )\n",
    "print( True                     )"
   ]
  },
  {
   "cell_type": "markdown",
   "metadata": {},
   "source": [
    "Or operator"
   ]
  },
  {
   "cell_type": "code",
   "execution_count": null,
   "metadata": {},
   "outputs": [],
   "source": [
    "study = True \n",
    "watch_tv = False\n",
    "\n",
    "print(study or watch_tv)"
   ]
  },
  {
   "cell_type": "markdown",
   "metadata": {},
   "source": [
    "Can you predict what the following cells will print?  (Recall that `//` is the intereger division operator, also known as the floor division operator.)"
   ]
  },
  {
   "cell_type": "code",
   "execution_count": null,
   "metadata": {},
   "outputs": [],
   "source": [
    "print(3 == 6 // 2)\n",
    "print(3 == 4 // 2)"
   ]
  },
  {
   "cell_type": "code",
   "execution_count": null,
   "metadata": {},
   "outputs": [],
   "source": [
    "print(3 = 6 // 2)"
   ]
  },
  {
   "cell_type": "code",
   "execution_count": null,
   "metadata": {},
   "outputs": [],
   "source": [
    "import numpy as np\n",
    "print(3 < 5)\n",
    "print(3 < 5.0)\n",
    "print(3 == 5)\n",
    "print(3 == 3.0)\n",
    "print(3.3 == 1.1 + 2.2)\n",
    "print(0.0 == np.sin(np.pi))\n",
    "print(np.sin(np.pi))"
   ]
  },
  {
   "cell_type": "code",
   "execution_count": null,
   "metadata": {},
   "outputs": [],
   "source": [
    "x, y, z = 1.0, 2.0, 3.0\n",
    "print( ( (x*y) < z ) and (y < z) )\n",
    "print(    x*y  < z   and  y < z  )"
   ]
  },
  {
   "cell_type": "code",
   "execution_count": null,
   "metadata": {},
   "outputs": [],
   "source": [
    "x, y = 2, 10\n",
    "x > y and print(\"Evaluated first time?\")\n",
    "x < y and print(\"Evaluated second time?\")\n",
    "print(x != 0 and y // x >= 1)\n",
    "x = 0\n",
    "print(x != 0 and y // x >= 1)"
   ]
  },
  {
   "cell_type": "code",
   "execution_count": null,
   "metadata": {},
   "outputs": [],
   "source": []
  }
 ],
 "metadata": {
  "kernelspec": {
   "display_name": "Python 3",
   "language": "python",
   "name": "python3"
  },
  "language_info": {
   "codemirror_mode": {
    "name": "ipython",
    "version": 3
   },
   "file_extension": ".py",
   "mimetype": "text/x-python",
   "name": "python",
   "nbconvert_exporter": "python",
   "pygments_lexer": "ipython3",
   "version": "3.8.5"
  }
 },
 "nbformat": 4,
 "nbformat_minor": 2
}
